{
 "cells": [
  {
   "cell_type": "code",
   "execution_count": 1,
   "metadata": {},
   "outputs": [],
   "source": [
    "import pandas as pd\n",
    "import matplotlib.pyplot as plt\n",
    "import numpy as np\n",
    "import seaborn as sns\n",
    "from scipy.stats import norm\n",
    "from sklearn.preprocessing import StandardScaler\n",
    "from scipy import stats"
   ]
  },
  {
   "cell_type": "code",
   "execution_count": 2,
   "metadata": {},
   "outputs": [],
   "source": [
    "import os"
   ]
  },
  {
   "cell_type": "code",
   "execution_count": 3,
   "metadata": {},
   "outputs": [
    {
     "data": {
      "text/plain": [
       "['train1.csv', 'train3.csv', 'train2.csv']"
      ]
     },
     "execution_count": 3,
     "metadata": {},
     "output_type": "execute_result"
    }
   ],
   "source": [
    "os.listdir(\"../dataset2/train\")"
   ]
  },
  {
   "cell_type": "code",
   "execution_count": 4,
   "metadata": {},
   "outputs": [
    {
     "name": "stderr",
     "output_type": "stream",
     "text": [
      "/Users/jayanth/Library/Python/2.7/lib/python/site-packages/IPython/core/interactiveshell.py:2714: DtypeWarning: Columns (46) have mixed types. Specify dtype option on import or set low_memory=False.\n",
      "  interactivity=interactivity, compiler=compiler, result=result)\n"
     ]
    }
   ],
   "source": [
    "train1 = pd.read_csv(\"../dataset2/train/train1.csv\")"
   ]
  },
  {
   "cell_type": "code",
   "execution_count": 5,
   "metadata": {},
   "outputs": [],
   "source": [
    "train2 = pd.read_csv(\"../dataset2/train/train2.csv\")"
   ]
  },
  {
   "cell_type": "code",
   "execution_count": 6,
   "metadata": {},
   "outputs": [],
   "source": [
    "train3 = pd.read_csv(\"../dataset2/train/train3.csv\")"
   ]
  },
  {
   "cell_type": "code",
   "execution_count": 7,
   "metadata": {},
   "outputs": [
    {
     "data": {
      "text/plain": [
       "UID           object\n",
       "Date          object\n",
       "Time          object\n",
       "MidPrice     float64\n",
       "Symbol        object\n",
       "Feature1     float64\n",
       "Feature2     float64\n",
       "Feature3     float64\n",
       "Feature4     float64\n",
       "Feature5     float64\n",
       "Feature6     float64\n",
       "Feature7     float64\n",
       "Feature8     float64\n",
       "Feature9     float64\n",
       "Feature10    float64\n",
       "Feature11    float64\n",
       "Feature12    float64\n",
       "Feature13    float64\n",
       "Feature14    float64\n",
       "Feature15    float64\n",
       "Feature16    float64\n",
       "Feature17    float64\n",
       "Feature18    float64\n",
       "Feature19    float64\n",
       "Feature20    float64\n",
       "Feature21    float64\n",
       "Feature22    float64\n",
       "Feature23    float64\n",
       "Feature24    float64\n",
       "Feature25    float64\n",
       "Feature26    float64\n",
       "Feature27    float64\n",
       "Feature28    float64\n",
       "Feature29    float64\n",
       "Feature30    float64\n",
       "Feature31    float64\n",
       "Feature32    float64\n",
       "Feature33    float64\n",
       "Feature34    float64\n",
       "Feature35    float64\n",
       "Feature36    float64\n",
       "Feature37    float64\n",
       "Feature38    float64\n",
       "Feature39    float64\n",
       "Feature40    float64\n",
       "Feature41    float64\n",
       "Feature42     object\n",
       "Feature43    float64\n",
       "Feature44    float64\n",
       "Feature45    float64\n",
       "Feature46    float64\n",
       "dtype: object"
      ]
     },
     "execution_count": 7,
     "metadata": {},
     "output_type": "execute_result"
    }
   ],
   "source": [
    "train1.dtypes"
   ]
  },
  {
   "cell_type": "code",
   "execution_count": 8,
   "metadata": {},
   "outputs": [
    {
     "data": {
      "text/plain": [
       "array(['und_109', 'und_110', 'und_111', 'und_112', 'und_113', 'und_114',\n",
       "       'und_115', 'und_116', 'und_117', 'und_118', 'und_119', 'und_120',\n",
       "       'und_121', 'und_122', 'und_123', 'und_124', 'und_125', 'und_126',\n",
       "       'und_127', 'und_128', 'und_129', 'und_130', 'und_131', 'und_132',\n",
       "       'und_133', 'und_134', 'und_135', 'und_136', 'und_137', 'und_138',\n",
       "       'und_139', 'und_140', 'und_141', 'und_142', 'und_143', 'und_144',\n",
       "       'und_145', 'und_146', 'und_147', 'und_148', 'und_149', 'und_150',\n",
       "       'und_151', 'und_152', 'und_153', 'und_154', 'und_155', 'und_156',\n",
       "       'und_157', 'und_158', 'und_159', 'und_160', 'und_161', 'und_162',\n",
       "       'und_163', 'und_164'], dtype=object)"
      ]
     },
     "execution_count": 8,
     "metadata": {},
     "output_type": "execute_result"
    }
   ],
   "source": [
    "train1.Symbol.unique()"
   ]
  },
  {
   "cell_type": "code",
   "execution_count": 9,
   "metadata": {},
   "outputs": [
    {
     "data": {
      "text/plain": [
       "array(['und_55', 'und_56', 'und_57', 'und_58', 'und_59', 'und_60',\n",
       "       'und_61', 'und_62', 'und_63', 'und_64', 'und_65', 'und_66',\n",
       "       'und_67', 'und_68', 'und_69', 'und_70', 'und_71', 'und_72',\n",
       "       'und_73', 'und_74', 'und_75', 'und_76', 'und_77', 'und_78',\n",
       "       'und_79', 'und_80', 'und_81', 'und_82', 'und_83', 'und_84',\n",
       "       'und_85', 'und_86', 'und_87', 'und_88', 'und_89', 'und_90',\n",
       "       'und_91', 'und_92', 'und_93', 'und_94', 'und_95', 'und_96',\n",
       "       'und_97', 'und_98', 'und_99', 'und_100', 'und_101', 'und_102',\n",
       "       'und_103', 'und_104', 'und_105', 'und_106', 'und_107', 'und_108'],\n",
       "      dtype=object)"
      ]
     },
     "execution_count": 9,
     "metadata": {},
     "output_type": "execute_result"
    }
   ],
   "source": [
    "train2.Symbol.unique()"
   ]
  },
  {
   "cell_type": "code",
   "execution_count": 10,
   "metadata": {},
   "outputs": [
    {
     "data": {
      "text/plain": [
       "array(['und_1', 'und_2', 'und_3', 'und_4', 'und_5', 'und_6', 'und_7',\n",
       "       'und_8', 'und_9', 'und_10', 'und_11', 'und_12', 'und_13', 'und_14',\n",
       "       'und_15', 'und_16', 'und_17', 'und_18', 'und_19', 'und_20',\n",
       "       'und_21', 'und_22', 'und_23', 'und_24', 'und_25', 'und_26',\n",
       "       'und_27', 'und_28', 'und_29', 'und_30', 'und_31', 'und_32',\n",
       "       'und_33', 'und_34', 'und_35', 'und_36', 'und_37', 'und_38',\n",
       "       'und_39', 'und_40', 'und_41', 'und_42', 'und_43', 'und_44',\n",
       "       'und_45', 'und_46', 'und_47', 'und_48', 'und_49', 'und_50',\n",
       "       'und_51', 'und_52', 'und_53', 'und_54'], dtype=object)"
      ]
     },
     "execution_count": 10,
     "metadata": {},
     "output_type": "execute_result"
    }
   ],
   "source": [
    "train3.Symbol.unique()"
   ]
  },
  {
   "cell_type": "code",
   "execution_count": 11,
   "metadata": {
    "scrolled": true
   },
   "outputs": [
    {
     "data": {
      "text/plain": [
       "count         399013\n",
       "unique           100\n",
       "top       23-03-2015\n",
       "freq            4071\n",
       "Name: Date, dtype: object"
      ]
     },
     "execution_count": 11,
     "metadata": {},
     "output_type": "execute_result"
    }
   ],
   "source": [
    "train1.Date.describe()"
   ]
  },
  {
   "cell_type": "code",
   "execution_count": 12,
   "metadata": {},
   "outputs": [
    {
     "data": {
      "text/plain": [
       "count         380185\n",
       "unique           100\n",
       "top       27-03-2015\n",
       "freq            3919\n",
       "Name: Date, dtype: object"
      ]
     },
     "execution_count": 12,
     "metadata": {},
     "output_type": "execute_result"
    }
   ],
   "source": [
    "train2.Date.describe()"
   ]
  },
  {
   "cell_type": "code",
   "execution_count": 13,
   "metadata": {},
   "outputs": [
    {
     "data": {
      "text/plain": [
       "count         378226\n",
       "unique           100\n",
       "top       24-01-2015\n",
       "freq            3896\n",
       "Name: Date, dtype: object"
      ]
     },
     "execution_count": 13,
     "metadata": {},
     "output_type": "execute_result"
    }
   ],
   "source": [
    "train3.Date.describe()"
   ]
  },
  {
   "cell_type": "code",
   "execution_count": 14,
   "metadata": {},
   "outputs": [
    {
     "name": "stderr",
     "output_type": "stream",
     "text": [
      "/Users/jayanth/Library/Python/2.7/lib/python/site-packages/IPython/core/interactiveshell.py:2714: DtypeWarning: Columns (45) have mixed types. Specify dtype option on import or set low_memory=False.\n",
      "  interactivity=interactivity, compiler=compiler, result=result)\n"
     ]
    }
   ],
   "source": [
    "test1 = pd.read_csv(\"../dataset2/test/test1.csv\")"
   ]
  },
  {
   "cell_type": "code",
   "execution_count": 15,
   "metadata": {},
   "outputs": [],
   "source": [
    "test2 = pd.read_csv(\"../dataset2/test/test2.csv\")"
   ]
  },
  {
   "cell_type": "code",
   "execution_count": 16,
   "metadata": {},
   "outputs": [],
   "source": [
    "test3 = pd.read_csv(\"../dataset2/test/test3.csv\")"
   ]
  },
  {
   "cell_type": "code",
   "execution_count": 17,
   "metadata": {},
   "outputs": [
    {
     "data": {
      "text/html": [
       "<div>\n",
       "<style scoped>\n",
       "    .dataframe tbody tr th:only-of-type {\n",
       "        vertical-align: middle;\n",
       "    }\n",
       "\n",
       "    .dataframe tbody tr th {\n",
       "        vertical-align: top;\n",
       "    }\n",
       "\n",
       "    .dataframe thead th {\n",
       "        text-align: right;\n",
       "    }\n",
       "</style>\n",
       "<table border=\"1\" class=\"dataframe\">\n",
       "  <thead>\n",
       "    <tr style=\"text-align: right;\">\n",
       "      <th></th>\n",
       "      <th>UID</th>\n",
       "      <th>Date</th>\n",
       "      <th>Time</th>\n",
       "      <th>Symbol</th>\n",
       "      <th>Feature1</th>\n",
       "      <th>Feature2</th>\n",
       "      <th>Feature3</th>\n",
       "      <th>Feature4</th>\n",
       "      <th>Feature5</th>\n",
       "      <th>Feature6</th>\n",
       "      <th>...</th>\n",
       "      <th>Feature37</th>\n",
       "      <th>Feature38</th>\n",
       "      <th>Feature39</th>\n",
       "      <th>Feature40</th>\n",
       "      <th>Feature41</th>\n",
       "      <th>Feature42</th>\n",
       "      <th>Feature43</th>\n",
       "      <th>Feature44</th>\n",
       "      <th>Feature45</th>\n",
       "      <th>Feature46</th>\n",
       "    </tr>\n",
       "  </thead>\n",
       "  <tbody>\n",
       "    <tr>\n",
       "      <th>0</th>\n",
       "      <td>01-06-2015 09:20 und_109</td>\n",
       "      <td>01-06-2015</td>\n",
       "      <td>09:20</td>\n",
       "      <td>und_109</td>\n",
       "      <td>1.047619</td>\n",
       "      <td>0.838235</td>\n",
       "      <td>0.995017</td>\n",
       "      <td>0.994663</td>\n",
       "      <td>1.007941</td>\n",
       "      <td>0.992888</td>\n",
       "      <td>...</td>\n",
       "      <td>1.016458</td>\n",
       "      <td>1.425926</td>\n",
       "      <td>1.127282</td>\n",
       "      <td>0.892416</td>\n",
       "      <td>0.714052</td>\n",
       "      <td>0.547035</td>\n",
       "      <td>2.213974</td>\n",
       "      <td>0.888889</td>\n",
       "      <td>0.638298</td>\n",
       "      <td>0.833333</td>\n",
       "    </tr>\n",
       "    <tr>\n",
       "      <th>1</th>\n",
       "      <td>01-06-2015 09:25 und_109</td>\n",
       "      <td>01-06-2015</td>\n",
       "      <td>09:25</td>\n",
       "      <td>und_109</td>\n",
       "      <td>0.538961</td>\n",
       "      <td>0.400000</td>\n",
       "      <td>0.994234</td>\n",
       "      <td>0.991318</td>\n",
       "      <td>1.000569</td>\n",
       "      <td>0.988476</td>\n",
       "      <td>...</td>\n",
       "      <td>1.015297</td>\n",
       "      <td>1.442513</td>\n",
       "      <td>1.081481</td>\n",
       "      <td>0.995005</td>\n",
       "      <td>0.738462</td>\n",
       "      <td>0.62919</td>\n",
       "      <td>2.153846</td>\n",
       "      <td>0.500000</td>\n",
       "      <td>0.333333</td>\n",
       "      <td>0.421488</td>\n",
       "    </tr>\n",
       "    <tr>\n",
       "      <th>2</th>\n",
       "      <td>01-06-2015 09:30 und_109</td>\n",
       "      <td>01-06-2015</td>\n",
       "      <td>09:30</td>\n",
       "      <td>und_109</td>\n",
       "      <td>1.164384</td>\n",
       "      <td>0.991935</td>\n",
       "      <td>0.997802</td>\n",
       "      <td>0.999094</td>\n",
       "      <td>0.997504</td>\n",
       "      <td>0.993885</td>\n",
       "      <td>...</td>\n",
       "      <td>1.017233</td>\n",
       "      <td>1.307938</td>\n",
       "      <td>1.128754</td>\n",
       "      <td>1.060883</td>\n",
       "      <td>0.903763</td>\n",
       "      <td>1.54522</td>\n",
       "      <td>1.946429</td>\n",
       "      <td>0.647059</td>\n",
       "      <td>0.972973</td>\n",
       "      <td>0.983333</td>\n",
       "    </tr>\n",
       "    <tr>\n",
       "      <th>3</th>\n",
       "      <td>01-06-2015 09:35 und_109</td>\n",
       "      <td>01-06-2015</td>\n",
       "      <td>09:35</td>\n",
       "      <td>und_109</td>\n",
       "      <td>1.082278</td>\n",
       "      <td>0.940741</td>\n",
       "      <td>1.002913</td>\n",
       "      <td>1.002629</td>\n",
       "      <td>1.002901</td>\n",
       "      <td>0.998327</td>\n",
       "      <td>...</td>\n",
       "      <td>1.016350</td>\n",
       "      <td>1.292722</td>\n",
       "      <td>1.119157</td>\n",
       "      <td>1.031940</td>\n",
       "      <td>0.896985</td>\n",
       "      <td>1.45107</td>\n",
       "      <td>1.582090</td>\n",
       "      <td>0.609756</td>\n",
       "      <td>0.890244</td>\n",
       "      <td>0.944882</td>\n",
       "    </tr>\n",
       "    <tr>\n",
       "      <th>4</th>\n",
       "      <td>01-06-2015 09:40 und_109</td>\n",
       "      <td>01-06-2015</td>\n",
       "      <td>09:40</td>\n",
       "      <td>und_109</td>\n",
       "      <td>1.040936</td>\n",
       "      <td>0.897260</td>\n",
       "      <td>0.998457</td>\n",
       "      <td>0.998693</td>\n",
       "      <td>0.998132</td>\n",
       "      <td>0.992841</td>\n",
       "      <td>...</td>\n",
       "      <td>1.016983</td>\n",
       "      <td>1.294497</td>\n",
       "      <td>1.128811</td>\n",
       "      <td>1.179727</td>\n",
       "      <td>1.016895</td>\n",
       "      <td>1.69049</td>\n",
       "      <td>1.936842</td>\n",
       "      <td>1.000000</td>\n",
       "      <td>0.951807</td>\n",
       "      <td>0.933824</td>\n",
       "    </tr>\n",
       "  </tbody>\n",
       "</table>\n",
       "<p>5 rows × 50 columns</p>\n",
       "</div>"
      ],
      "text/plain": [
       "                        UID        Date   Time   Symbol  Feature1  Feature2  \\\n",
       "0  01-06-2015 09:20 und_109  01-06-2015  09:20  und_109  1.047619  0.838235   \n",
       "1  01-06-2015 09:25 und_109  01-06-2015  09:25  und_109  0.538961  0.400000   \n",
       "2  01-06-2015 09:30 und_109  01-06-2015  09:30  und_109  1.164384  0.991935   \n",
       "3  01-06-2015 09:35 und_109  01-06-2015  09:35  und_109  1.082278  0.940741   \n",
       "4  01-06-2015 09:40 und_109  01-06-2015  09:40  und_109  1.040936  0.897260   \n",
       "\n",
       "   Feature3  Feature4  Feature5  Feature6    ...      Feature37  Feature38  \\\n",
       "0  0.995017  0.994663  1.007941  0.992888    ...       1.016458   1.425926   \n",
       "1  0.994234  0.991318  1.000569  0.988476    ...       1.015297   1.442513   \n",
       "2  0.997802  0.999094  0.997504  0.993885    ...       1.017233   1.307938   \n",
       "3  1.002913  1.002629  1.002901  0.998327    ...       1.016350   1.292722   \n",
       "4  0.998457  0.998693  0.998132  0.992841    ...       1.016983   1.294497   \n",
       "\n",
       "   Feature39  Feature40  Feature41  Feature42  Feature43  Feature44  \\\n",
       "0   1.127282   0.892416   0.714052   0.547035   2.213974   0.888889   \n",
       "1   1.081481   0.995005   0.738462    0.62919   2.153846   0.500000   \n",
       "2   1.128754   1.060883   0.903763    1.54522   1.946429   0.647059   \n",
       "3   1.119157   1.031940   0.896985    1.45107   1.582090   0.609756   \n",
       "4   1.128811   1.179727   1.016895    1.69049   1.936842   1.000000   \n",
       "\n",
       "   Feature45  Feature46  \n",
       "0   0.638298   0.833333  \n",
       "1   0.333333   0.421488  \n",
       "2   0.972973   0.983333  \n",
       "3   0.890244   0.944882  \n",
       "4   0.951807   0.933824  \n",
       "\n",
       "[5 rows x 50 columns]"
      ]
     },
     "execution_count": 17,
     "metadata": {},
     "output_type": "execute_result"
    }
   ],
   "source": [
    "test1.head()"
   ]
  },
  {
   "cell_type": "code",
   "execution_count": 18,
   "metadata": {},
   "outputs": [
    {
     "data": {
      "text/plain": [
       "count     3.990080e+05\n",
       "unique    3.816860e+05\n",
       "top                inf\n",
       "freq      1.746000e+03\n",
       "Name: Feature42, dtype: float64"
      ]
     },
     "execution_count": 18,
     "metadata": {},
     "output_type": "execute_result"
    }
   ],
   "source": [
    "train1.Feature42.describe()"
   ]
  },
  {
   "cell_type": "code",
   "execution_count": 19,
   "metadata": {},
   "outputs": [
    {
     "data": {
      "text/plain": [
       "count     140029\n",
       "unique    136034\n",
       "top          Inf\n",
       "freq         630\n",
       "Name: Feature42, dtype: object"
      ]
     },
     "execution_count": 19,
     "metadata": {},
     "output_type": "execute_result"
    }
   ],
   "source": [
    "test3.Feature42.describe()"
   ]
  },
  {
   "cell_type": "code",
   "execution_count": 20,
   "metadata": {},
   "outputs": [],
   "source": [
    "train = pd.concat([train1, train2, train3])"
   ]
  },
  {
   "cell_type": "code",
   "execution_count": 21,
   "metadata": {},
   "outputs": [],
   "source": [
    "test = pd.concat([test1,test2,test3])"
   ]
  },
  {
   "cell_type": "code",
   "execution_count": 22,
   "metadata": {},
   "outputs": [],
   "source": [
    "train['Date'] =  pd.to_datetime(train['Date'])\n",
    "train['Time'] =  pd.to_datetime(train['Time'], format='%H:%M').dt.time\n",
    "train['Symbol'] = train.Symbol.astype('category')\n",
    "train.drop(['Feature42'], axis=1, inplace=True) "
   ]
  },
  {
   "cell_type": "code",
   "execution_count": 23,
   "metadata": {},
   "outputs": [],
   "source": [
    "test['Date'] =  pd.to_datetime(test['Date'])\n",
    "test['Time'] =  pd.to_datetime(test['Time'], format='%H:%M').dt.time\n",
    "test['Symbol'] = test.Symbol.astype('category') \n",
    "test.drop(['Feature42'], axis=1, inplace=True) "
   ]
  },
  {
   "cell_type": "code",
   "execution_count": 24,
   "metadata": {},
   "outputs": [],
   "source": [
    "test['DateTime'] = pd.to_datetime(test['Date'].map(str) + ' ' + test['Time'].map(str))"
   ]
  },
  {
   "cell_type": "code",
   "execution_count": 25,
   "metadata": {},
   "outputs": [],
   "source": [
    "train['DateTime'] = pd.to_datetime(train['Date'].map(str) + ' ' + train['Time'].map(str))"
   ]
  },
  {
   "cell_type": "code",
   "execution_count": 26,
   "metadata": {},
   "outputs": [
    {
     "data": {
      "text/plain": [
       "count                  423088\n",
       "unique                   2770\n",
       "top       2015-07-06 09:35:00\n",
       "freq                      160\n",
       "first     2015-01-06 09:20:00\n",
       "last      2015-12-07 15:30:00\n",
       "Name: DateTime, dtype: object"
      ]
     },
     "execution_count": 26,
     "metadata": {},
     "output_type": "execute_result"
    }
   ],
   "source": [
    "test.DateTime.describe()"
   ]
  },
  {
   "cell_type": "code",
   "execution_count": 27,
   "metadata": {},
   "outputs": [
    {
     "data": {
      "text/plain": [
       "count                 1157424\n",
       "unique                   7491\n",
       "top       2015-01-15 11:20:00\n",
       "freq                      164\n",
       "first     2015-01-02 09:20:00\n",
       "last      2015-12-04 15:30:00\n",
       "Name: DateTime, dtype: object"
      ]
     },
     "execution_count": 27,
     "metadata": {},
     "output_type": "execute_result"
    }
   ],
   "source": [
    "train.DateTime.describe()"
   ]
  },
  {
   "cell_type": "code",
   "execution_count": 28,
   "metadata": {},
   "outputs": [
    {
     "data": {
      "text/plain": [
       "(Timestamp('2015-01-02 09:20:00'), Timestamp('2015-12-04 15:30:00'))"
      ]
     },
     "execution_count": 28,
     "metadata": {},
     "output_type": "execute_result"
    }
   ],
   "source": [
    "train.DateTime.min(), train.DateTime.max()"
   ]
  },
  {
   "cell_type": "code",
   "execution_count": 29,
   "metadata": {},
   "outputs": [
    {
     "data": {
      "text/plain": [
       "(Timestamp('2015-01-06 09:20:00'), Timestamp('2015-12-07 15:30:00'))"
      ]
     },
     "execution_count": 29,
     "metadata": {},
     "output_type": "execute_result"
    }
   ],
   "source": [
    "test.DateTime.min(), test.DateTime.max()"
   ]
  },
  {
   "cell_type": "code",
   "execution_count": 30,
   "metadata": {},
   "outputs": [],
   "source": [
    "train['ts'] = train.DateTime.values.astype(np.int64)// 10**9\n",
    "test['ts'] = test.DateTime.values.astype(np.int64)// 10**9"
   ]
  },
  {
   "cell_type": "code",
   "execution_count": 31,
   "metadata": {},
   "outputs": [
    {
     "data": {
      "text/html": [
       "<div>\n",
       "<style scoped>\n",
       "    .dataframe tbody tr th:only-of-type {\n",
       "        vertical-align: middle;\n",
       "    }\n",
       "\n",
       "    .dataframe tbody tr th {\n",
       "        vertical-align: top;\n",
       "    }\n",
       "\n",
       "    .dataframe thead th {\n",
       "        text-align: right;\n",
       "    }\n",
       "</style>\n",
       "<table border=\"1\" class=\"dataframe\">\n",
       "  <thead>\n",
       "    <tr style=\"text-align: right;\">\n",
       "      <th></th>\n",
       "      <th>UID</th>\n",
       "      <th>Date</th>\n",
       "      <th>Time</th>\n",
       "      <th>Symbol</th>\n",
       "      <th>Feature1</th>\n",
       "      <th>Feature2</th>\n",
       "      <th>Feature3</th>\n",
       "      <th>Feature4</th>\n",
       "      <th>Feature5</th>\n",
       "      <th>Feature6</th>\n",
       "      <th>...</th>\n",
       "      <th>Feature38</th>\n",
       "      <th>Feature39</th>\n",
       "      <th>Feature40</th>\n",
       "      <th>Feature41</th>\n",
       "      <th>Feature43</th>\n",
       "      <th>Feature44</th>\n",
       "      <th>Feature45</th>\n",
       "      <th>Feature46</th>\n",
       "      <th>DateTime</th>\n",
       "      <th>ts</th>\n",
       "    </tr>\n",
       "  </thead>\n",
       "  <tbody>\n",
       "    <tr>\n",
       "      <th>0</th>\n",
       "      <td>01-06-2015 09:20 und_109</td>\n",
       "      <td>2015-01-06</td>\n",
       "      <td>09:20:00</td>\n",
       "      <td>und_109</td>\n",
       "      <td>1.047619</td>\n",
       "      <td>0.838235</td>\n",
       "      <td>0.995017</td>\n",
       "      <td>0.994663</td>\n",
       "      <td>1.007941</td>\n",
       "      <td>0.992888</td>\n",
       "      <td>...</td>\n",
       "      <td>1.425926</td>\n",
       "      <td>1.127282</td>\n",
       "      <td>0.892416</td>\n",
       "      <td>0.714052</td>\n",
       "      <td>2.213974</td>\n",
       "      <td>0.888889</td>\n",
       "      <td>0.638298</td>\n",
       "      <td>0.833333</td>\n",
       "      <td>2015-01-06 09:20:00</td>\n",
       "      <td>1420536000</td>\n",
       "    </tr>\n",
       "    <tr>\n",
       "      <th>1</th>\n",
       "      <td>01-06-2015 09:25 und_109</td>\n",
       "      <td>2015-01-06</td>\n",
       "      <td>09:25:00</td>\n",
       "      <td>und_109</td>\n",
       "      <td>0.538961</td>\n",
       "      <td>0.400000</td>\n",
       "      <td>0.994234</td>\n",
       "      <td>0.991318</td>\n",
       "      <td>1.000569</td>\n",
       "      <td>0.988476</td>\n",
       "      <td>...</td>\n",
       "      <td>1.442513</td>\n",
       "      <td>1.081481</td>\n",
       "      <td>0.995005</td>\n",
       "      <td>0.738462</td>\n",
       "      <td>2.153846</td>\n",
       "      <td>0.500000</td>\n",
       "      <td>0.333333</td>\n",
       "      <td>0.421488</td>\n",
       "      <td>2015-01-06 09:25:00</td>\n",
       "      <td>1420536300</td>\n",
       "    </tr>\n",
       "    <tr>\n",
       "      <th>2</th>\n",
       "      <td>01-06-2015 09:30 und_109</td>\n",
       "      <td>2015-01-06</td>\n",
       "      <td>09:30:00</td>\n",
       "      <td>und_109</td>\n",
       "      <td>1.164384</td>\n",
       "      <td>0.991935</td>\n",
       "      <td>0.997802</td>\n",
       "      <td>0.999094</td>\n",
       "      <td>0.997504</td>\n",
       "      <td>0.993885</td>\n",
       "      <td>...</td>\n",
       "      <td>1.307938</td>\n",
       "      <td>1.128754</td>\n",
       "      <td>1.060883</td>\n",
       "      <td>0.903763</td>\n",
       "      <td>1.946429</td>\n",
       "      <td>0.647059</td>\n",
       "      <td>0.972973</td>\n",
       "      <td>0.983333</td>\n",
       "      <td>2015-01-06 09:30:00</td>\n",
       "      <td>1420536600</td>\n",
       "    </tr>\n",
       "    <tr>\n",
       "      <th>3</th>\n",
       "      <td>01-06-2015 09:35 und_109</td>\n",
       "      <td>2015-01-06</td>\n",
       "      <td>09:35:00</td>\n",
       "      <td>und_109</td>\n",
       "      <td>1.082278</td>\n",
       "      <td>0.940741</td>\n",
       "      <td>1.002913</td>\n",
       "      <td>1.002629</td>\n",
       "      <td>1.002901</td>\n",
       "      <td>0.998327</td>\n",
       "      <td>...</td>\n",
       "      <td>1.292722</td>\n",
       "      <td>1.119157</td>\n",
       "      <td>1.031940</td>\n",
       "      <td>0.896985</td>\n",
       "      <td>1.582090</td>\n",
       "      <td>0.609756</td>\n",
       "      <td>0.890244</td>\n",
       "      <td>0.944882</td>\n",
       "      <td>2015-01-06 09:35:00</td>\n",
       "      <td>1420536900</td>\n",
       "    </tr>\n",
       "    <tr>\n",
       "      <th>4</th>\n",
       "      <td>01-06-2015 09:40 und_109</td>\n",
       "      <td>2015-01-06</td>\n",
       "      <td>09:40:00</td>\n",
       "      <td>und_109</td>\n",
       "      <td>1.040936</td>\n",
       "      <td>0.897260</td>\n",
       "      <td>0.998457</td>\n",
       "      <td>0.998693</td>\n",
       "      <td>0.998132</td>\n",
       "      <td>0.992841</td>\n",
       "      <td>...</td>\n",
       "      <td>1.294497</td>\n",
       "      <td>1.128811</td>\n",
       "      <td>1.179727</td>\n",
       "      <td>1.016895</td>\n",
       "      <td>1.936842</td>\n",
       "      <td>1.000000</td>\n",
       "      <td>0.951807</td>\n",
       "      <td>0.933824</td>\n",
       "      <td>2015-01-06 09:40:00</td>\n",
       "      <td>1420537200</td>\n",
       "    </tr>\n",
       "  </tbody>\n",
       "</table>\n",
       "<p>5 rows × 51 columns</p>\n",
       "</div>"
      ],
      "text/plain": [
       "                        UID       Date      Time   Symbol  Feature1  Feature2  \\\n",
       "0  01-06-2015 09:20 und_109 2015-01-06  09:20:00  und_109  1.047619  0.838235   \n",
       "1  01-06-2015 09:25 und_109 2015-01-06  09:25:00  und_109  0.538961  0.400000   \n",
       "2  01-06-2015 09:30 und_109 2015-01-06  09:30:00  und_109  1.164384  0.991935   \n",
       "3  01-06-2015 09:35 und_109 2015-01-06  09:35:00  und_109  1.082278  0.940741   \n",
       "4  01-06-2015 09:40 und_109 2015-01-06  09:40:00  und_109  1.040936  0.897260   \n",
       "\n",
       "   Feature3  Feature4  Feature5  Feature6     ...      Feature38  Feature39  \\\n",
       "0  0.995017  0.994663  1.007941  0.992888     ...       1.425926   1.127282   \n",
       "1  0.994234  0.991318  1.000569  0.988476     ...       1.442513   1.081481   \n",
       "2  0.997802  0.999094  0.997504  0.993885     ...       1.307938   1.128754   \n",
       "3  1.002913  1.002629  1.002901  0.998327     ...       1.292722   1.119157   \n",
       "4  0.998457  0.998693  0.998132  0.992841     ...       1.294497   1.128811   \n",
       "\n",
       "   Feature40  Feature41  Feature43  Feature44  Feature45  Feature46  \\\n",
       "0   0.892416   0.714052   2.213974   0.888889   0.638298   0.833333   \n",
       "1   0.995005   0.738462   2.153846   0.500000   0.333333   0.421488   \n",
       "2   1.060883   0.903763   1.946429   0.647059   0.972973   0.983333   \n",
       "3   1.031940   0.896985   1.582090   0.609756   0.890244   0.944882   \n",
       "4   1.179727   1.016895   1.936842   1.000000   0.951807   0.933824   \n",
       "\n",
       "             DateTime          ts  \n",
       "0 2015-01-06 09:20:00  1420536000  \n",
       "1 2015-01-06 09:25:00  1420536300  \n",
       "2 2015-01-06 09:30:00  1420536600  \n",
       "3 2015-01-06 09:35:00  1420536900  \n",
       "4 2015-01-06 09:40:00  1420537200  \n",
       "\n",
       "[5 rows x 51 columns]"
      ]
     },
     "execution_count": 31,
     "metadata": {},
     "output_type": "execute_result"
    }
   ],
   "source": [
    "test.head()"
   ]
  },
  {
   "cell_type": "code",
   "execution_count": 32,
   "metadata": {
    "scrolled": true
   },
   "outputs": [
    {
     "data": {
      "text/html": [
       "<div>\n",
       "<style scoped>\n",
       "    .dataframe tbody tr th:only-of-type {\n",
       "        vertical-align: middle;\n",
       "    }\n",
       "\n",
       "    .dataframe tbody tr th {\n",
       "        vertical-align: top;\n",
       "    }\n",
       "\n",
       "    .dataframe thead th {\n",
       "        text-align: right;\n",
       "    }\n",
       "</style>\n",
       "<table border=\"1\" class=\"dataframe\">\n",
       "  <thead>\n",
       "    <tr style=\"text-align: right;\">\n",
       "      <th></th>\n",
       "      <th>UID</th>\n",
       "      <th>Date</th>\n",
       "      <th>Time</th>\n",
       "      <th>MidPrice</th>\n",
       "      <th>Symbol</th>\n",
       "      <th>Feature1</th>\n",
       "      <th>Feature2</th>\n",
       "      <th>Feature3</th>\n",
       "      <th>Feature4</th>\n",
       "      <th>Feature5</th>\n",
       "      <th>...</th>\n",
       "      <th>Feature38</th>\n",
       "      <th>Feature39</th>\n",
       "      <th>Feature40</th>\n",
       "      <th>Feature41</th>\n",
       "      <th>Feature43</th>\n",
       "      <th>Feature44</th>\n",
       "      <th>Feature45</th>\n",
       "      <th>Feature46</th>\n",
       "      <th>DateTime</th>\n",
       "      <th>ts</th>\n",
       "    </tr>\n",
       "  </thead>\n",
       "  <tbody>\n",
       "    <tr>\n",
       "      <th>0</th>\n",
       "      <td>04-01-2015 09:20 und_109</td>\n",
       "      <td>2015-04-01</td>\n",
       "      <td>09:20:00</td>\n",
       "      <td>1701.00</td>\n",
       "      <td>und_109</td>\n",
       "      <td>0.556213</td>\n",
       "      <td>0.504202</td>\n",
       "      <td>0.996146</td>\n",
       "      <td>0.993157</td>\n",
       "      <td>1.003206</td>\n",
       "      <td>...</td>\n",
       "      <td>1.053254</td>\n",
       "      <td>0.942061</td>\n",
       "      <td>0.811770</td>\n",
       "      <td>0.735862</td>\n",
       "      <td>0.901639</td>\n",
       "      <td>0.592593</td>\n",
       "      <td>0.463768</td>\n",
       "      <td>0.373913</td>\n",
       "      <td>2015-04-01 09:20:00</td>\n",
       "      <td>1427880000</td>\n",
       "    </tr>\n",
       "    <tr>\n",
       "      <th>1</th>\n",
       "      <td>04-01-2015 09:25 und_109</td>\n",
       "      <td>2015-04-01</td>\n",
       "      <td>09:25:00</td>\n",
       "      <td>1696.55</td>\n",
       "      <td>und_109</td>\n",
       "      <td>0.551020</td>\n",
       "      <td>0.450704</td>\n",
       "      <td>0.997270</td>\n",
       "      <td>0.993206</td>\n",
       "      <td>0.999403</td>\n",
       "      <td>...</td>\n",
       "      <td>1.051948</td>\n",
       "      <td>0.860435</td>\n",
       "      <td>0.890110</td>\n",
       "      <td>0.728061</td>\n",
       "      <td>1.064024</td>\n",
       "      <td>0.500000</td>\n",
       "      <td>0.410959</td>\n",
       "      <td>0.445255</td>\n",
       "      <td>2015-04-01 09:25:00</td>\n",
       "      <td>1427880300</td>\n",
       "    </tr>\n",
       "    <tr>\n",
       "      <th>2</th>\n",
       "      <td>04-01-2015 09:30 und_109</td>\n",
       "      <td>2015-04-01</td>\n",
       "      <td>09:30:00</td>\n",
       "      <td>1699.65</td>\n",
       "      <td>und_109</td>\n",
       "      <td>0.611111</td>\n",
       "      <td>0.520548</td>\n",
       "      <td>0.995962</td>\n",
       "      <td>0.993040</td>\n",
       "      <td>1.001903</td>\n",
       "      <td>...</td>\n",
       "      <td>1.005376</td>\n",
       "      <td>0.853699</td>\n",
       "      <td>0.850242</td>\n",
       "      <td>0.724241</td>\n",
       "      <td>1.240418</td>\n",
       "      <td>0.750000</td>\n",
       "      <td>0.594203</td>\n",
       "      <td>0.517730</td>\n",
       "      <td>2015-04-01 09:30:00</td>\n",
       "      <td>1427880600</td>\n",
       "    </tr>\n",
       "    <tr>\n",
       "      <th>3</th>\n",
       "      <td>04-01-2015 09:35 und_109</td>\n",
       "      <td>2015-04-01</td>\n",
       "      <td>09:35:00</td>\n",
       "      <td>1697.05</td>\n",
       "      <td>und_109</td>\n",
       "      <td>0.538462</td>\n",
       "      <td>0.441558</td>\n",
       "      <td>0.996669</td>\n",
       "      <td>0.995334</td>\n",
       "      <td>1.005164</td>\n",
       "      <td>...</td>\n",
       "      <td>1.028846</td>\n",
       "      <td>0.843867</td>\n",
       "      <td>0.777778</td>\n",
       "      <td>0.637807</td>\n",
       "      <td>1.291815</td>\n",
       "      <td>0.500000</td>\n",
       "      <td>0.426667</td>\n",
       "      <td>0.344595</td>\n",
       "      <td>2015-04-01 09:35:00</td>\n",
       "      <td>1427880900</td>\n",
       "    </tr>\n",
       "    <tr>\n",
       "      <th>4</th>\n",
       "      <td>04-01-2015 09:40 und_109</td>\n",
       "      <td>2015-04-01</td>\n",
       "      <td>09:40:00</td>\n",
       "      <td>1695.40</td>\n",
       "      <td>und_109</td>\n",
       "      <td>0.598086</td>\n",
       "      <td>0.506410</td>\n",
       "      <td>0.994673</td>\n",
       "      <td>0.991444</td>\n",
       "      <td>1.002091</td>\n",
       "      <td>...</td>\n",
       "      <td>0.966139</td>\n",
       "      <td>0.818047</td>\n",
       "      <td>0.777512</td>\n",
       "      <td>0.658333</td>\n",
       "      <td>1.589147</td>\n",
       "      <td>0.575758</td>\n",
       "      <td>0.554054</td>\n",
       "      <td>0.410596</td>\n",
       "      <td>2015-04-01 09:40:00</td>\n",
       "      <td>1427881200</td>\n",
       "    </tr>\n",
       "  </tbody>\n",
       "</table>\n",
       "<p>5 rows × 52 columns</p>\n",
       "</div>"
      ],
      "text/plain": [
       "                        UID       Date      Time  MidPrice   Symbol  Feature1  \\\n",
       "0  04-01-2015 09:20 und_109 2015-04-01  09:20:00   1701.00  und_109  0.556213   \n",
       "1  04-01-2015 09:25 und_109 2015-04-01  09:25:00   1696.55  und_109  0.551020   \n",
       "2  04-01-2015 09:30 und_109 2015-04-01  09:30:00   1699.65  und_109  0.611111   \n",
       "3  04-01-2015 09:35 und_109 2015-04-01  09:35:00   1697.05  und_109  0.538462   \n",
       "4  04-01-2015 09:40 und_109 2015-04-01  09:40:00   1695.40  und_109  0.598086   \n",
       "\n",
       "   Feature2  Feature3  Feature4  Feature5     ...      Feature38  Feature39  \\\n",
       "0  0.504202  0.996146  0.993157  1.003206     ...       1.053254   0.942061   \n",
       "1  0.450704  0.997270  0.993206  0.999403     ...       1.051948   0.860435   \n",
       "2  0.520548  0.995962  0.993040  1.001903     ...       1.005376   0.853699   \n",
       "3  0.441558  0.996669  0.995334  1.005164     ...       1.028846   0.843867   \n",
       "4  0.506410  0.994673  0.991444  1.002091     ...       0.966139   0.818047   \n",
       "\n",
       "   Feature40  Feature41  Feature43  Feature44  Feature45  Feature46  \\\n",
       "0   0.811770   0.735862   0.901639   0.592593   0.463768   0.373913   \n",
       "1   0.890110   0.728061   1.064024   0.500000   0.410959   0.445255   \n",
       "2   0.850242   0.724241   1.240418   0.750000   0.594203   0.517730   \n",
       "3   0.777778   0.637807   1.291815   0.500000   0.426667   0.344595   \n",
       "4   0.777512   0.658333   1.589147   0.575758   0.554054   0.410596   \n",
       "\n",
       "             DateTime          ts  \n",
       "0 2015-04-01 09:20:00  1427880000  \n",
       "1 2015-04-01 09:25:00  1427880300  \n",
       "2 2015-04-01 09:30:00  1427880600  \n",
       "3 2015-04-01 09:35:00  1427880900  \n",
       "4 2015-04-01 09:40:00  1427881200  \n",
       "\n",
       "[5 rows x 52 columns]"
      ]
     },
     "execution_count": 32,
     "metadata": {},
     "output_type": "execute_result"
    }
   ],
   "source": [
    "train.head()"
   ]
  },
  {
   "cell_type": "code",
   "execution_count": 33,
   "metadata": {},
   "outputs": [],
   "source": [
    "train.sort_values(by=['Symbol','ts'],inplace=True)\n",
    "test.sort_values(by=['Symbol','ts'],inplace=True)"
   ]
  },
  {
   "cell_type": "code",
   "execution_count": 34,
   "metadata": {},
   "outputs": [
    {
     "data": {
      "text/plain": [
       "count    1.157424e+06\n",
       "mean     3.075474e+03\n",
       "std      1.253767e+04\n",
       "min      1.725000e+01\n",
       "25%      3.903000e+02\n",
       "50%      9.522000e+02\n",
       "75%      2.097150e+03\n",
       "max      1.628857e+05\n",
       "Name: MidPrice, dtype: float64"
      ]
     },
     "execution_count": 34,
     "metadata": {},
     "output_type": "execute_result"
    }
   ],
   "source": [
    "train['MidPrice'].describe()"
   ]
  },
  {
   "cell_type": "code",
   "execution_count": 35,
   "metadata": {},
   "outputs": [
    {
     "name": "stderr",
     "output_type": "stream",
     "text": [
      "/usr/local/lib/python2.7/site-packages/scipy/stats/stats.py:1713: FutureWarning: Using a non-tuple sequence for multidimensional indexing is deprecated; use `arr[tuple(seq)]` instead of `arr[seq]`. In the future this will be interpreted as an array index, `arr[np.array(seq)]`, which will result either in an error or a different result.\n",
      "  return np.add.reduce(sorted[indexer] * weights, axis=axis) / sumval\n"
     ]
    },
    {
     "data": {
      "image/png": "[encoded data removed]",
      "text/plain": [
       "<Figure size 432x288 with 1 Axes>"
      ]
     },
     "metadata": {
      "needs_background": "light"
     },
     "output_type": "display_data"
    }
   ],
   "source": [
    "sns.distplot(train['MidPrice']);"
   ]
  },
  {
   "cell_type": "code",
   "execution_count": 36,
   "metadata": {},
   "outputs": [
    {
     "name": "stdout",
     "output_type": "stream",
     "text": [
      "Skewness: 9.917376\n",
      "Kurtosis: 107.979930\n"
     ]
    }
   ],
   "source": [
    "print(\"Skewness: %f\" % train['MidPrice'].skew())\n",
    "print(\"Kurtosis: %f\" % train['MidPrice'].kurt())"
   ]
  },
  {
   "cell_type": "code",
   "execution_count": 37,
   "metadata": {},
   "outputs": [
    {
     "data": {
      "image/png": "[encoded data removed]",
      "text/plain": [
       "<Figure size 864x648 with 2 Axes>"
      ]
     },
     "metadata": {
      "needs_background": "light"
     },
     "output_type": "display_data"
    }
   ],
   "source": [
    "#correlation matrix\n",
    "corrmat = train.corr()\n",
    "f, ax = plt.subplots(figsize=(12, 9))\n",
    "sns.heatmap(corrmat, vmax=.8, square=False);"
   ]
  },
  {
   "cell_type": "code",
   "execution_count": 38,
   "metadata": {},
   "outputs": [
    {
     "name": "stdout",
     "output_type": "stream",
     "text": [
      "\n",
      " mu = 3075.47 and sigma = 12537.66\n",
      "\n"
     ]
    },
    {
     "data": {
      "image/png": "[encoded data removed]",
      "text/plain": [
       "<Figure size 432x288 with 1 Axes>"
      ]
     },
     "metadata": {
      "needs_background": "light"
     },
     "output_type": "display_data"
    },
    {
     "data": {
      "image/png": "[encoded data removed]",
      "text/plain": [
       "<Figure size 432x288 with 1 Axes>"
      ]
     },
     "metadata": {
      "needs_background": "light"
     },
     "output_type": "display_data"
    }
   ],
   "source": [
    "sns.distplot(train['MidPrice'] , fit=norm);\n",
    "\n",
    "# Get the fitted parameters used by the function\n",
    "(mu, sigma) = norm.fit(train['MidPrice'])\n",
    "print( '\\n mu = {:.2f} and sigma = {:.2f}\\n'.format(mu, sigma))\n",
    "\n",
    "#Now plot the distribution\n",
    "plt.legend(['Normal dist. ($\\mu=$ {:.2f} and $\\sigma=$ {:.2f} )'.format(mu, sigma)],\n",
    "            loc='best')\n",
    "plt.ylabel('Frequency')\n",
    "plt.title('MidPrice distribution')\n",
    "\n",
    "#Get also the QQ-plot\n",
    "fig = plt.figure()\n",
    "res = stats.probplot(train['MidPrice'], plot=plt)\n",
    "plt.show()"
   ]
  },
  {
   "cell_type": "code",
   "execution_count": 39,
   "metadata": {},
   "outputs": [],
   "source": [
    "train[['Ticker_repeat', 'Ticker']]= train['Symbol'].str.split('_',expand=True)"
   ]
  },
  {
   "cell_type": "code",
   "execution_count": 40,
   "metadata": {},
   "outputs": [],
   "source": [
    "test[['Ticker_repeat', 'Ticker']]= test['Symbol'].str.split('_',expand=True)"
   ]
  },
  {
   "cell_type": "code",
   "execution_count": 41,
   "metadata": {},
   "outputs": [],
   "source": [
    "train.drop(['Ticker_repeat'], axis=1,inplace=True)\n",
    "test.drop(['Ticker_repeat'], axis=1,inplace=True)"
   ]
  },
  {
   "cell_type": "code",
   "execution_count": 42,
   "metadata": {},
   "outputs": [],
   "source": [
    "tmm = train.groupby(['Ticker'], as_index=True).agg(\n",
    "                      {'MidPrice':['mean','std','min','max','var','sem']})"
   ]
  },
  {
   "cell_type": "code",
   "execution_count": 43,
   "metadata": {},
   "outputs": [
    {
     "data": {
      "text/html": [
       "<div>\n",
       "<style scoped>\n",
       "    .dataframe tbody tr th:only-of-type {\n",
       "        vertical-align: middle;\n",
       "    }\n",
       "\n",
       "    .dataframe tbody tr th {\n",
       "        vertical-align: top;\n",
       "    }\n",
       "\n",
       "    .dataframe thead tr th {\n",
       "        text-align: left;\n",
       "    }\n",
       "\n",
       "    .dataframe thead tr:last-of-type th {\n",
       "        text-align: right;\n",
       "    }\n",
       "</style>\n",
       "<table border=\"1\" class=\"dataframe\">\n",
       "  <thead>\n",
       "    <tr>\n",
       "      <th></th>\n",
       "      <th colspan=\"6\" halign=\"left\">MidPrice</th>\n",
       "    </tr>\n",
       "    <tr>\n",
       "      <th></th>\n",
       "      <th>mean</th>\n",
       "      <th>std</th>\n",
       "      <th>min</th>\n",
       "      <th>max</th>\n",
       "      <th>var</th>\n",
       "      <th>sem</th>\n",
       "    </tr>\n",
       "    <tr>\n",
       "      <th>Ticker</th>\n",
       "      <th></th>\n",
       "      <th></th>\n",
       "      <th></th>\n",
       "      <th></th>\n",
       "      <th></th>\n",
       "      <th></th>\n",
       "    </tr>\n",
       "  </thead>\n",
       "  <tbody>\n",
       "    <tr>\n",
       "      <th>1</th>\n",
       "      <td>3182.262171</td>\n",
       "      <td>269.064331</td>\n",
       "      <td>2592.25</td>\n",
       "      <td>3707.55</td>\n",
       "      <td>7.239561e+04</td>\n",
       "      <td>3.176916</td>\n",
       "    </tr>\n",
       "    <tr>\n",
       "      <th>10</th>\n",
       "      <td>521.909513</td>\n",
       "      <td>30.827480</td>\n",
       "      <td>466.95</td>\n",
       "      <td>609.85</td>\n",
       "      <td>9.503335e+02</td>\n",
       "      <td>0.364624</td>\n",
       "    </tr>\n",
       "    <tr>\n",
       "      <th>100</th>\n",
       "      <td>53.976764</td>\n",
       "      <td>5.641818</td>\n",
       "      <td>45.05</td>\n",
       "      <td>69.25</td>\n",
       "      <td>3.183011e+01</td>\n",
       "      <td>0.068127</td>\n",
       "    </tr>\n",
       "    <tr>\n",
       "      <th>101</th>\n",
       "      <td>170.243516</td>\n",
       "      <td>18.728033</td>\n",
       "      <td>139.95</td>\n",
       "      <td>219.60</td>\n",
       "      <td>3.507392e+02</td>\n",
       "      <td>0.223811</td>\n",
       "    </tr>\n",
       "    <tr>\n",
       "      <th>102</th>\n",
       "      <td>3990.607803</td>\n",
       "      <td>330.295175</td>\n",
       "      <td>3339.15</td>\n",
       "      <td>4850.70</td>\n",
       "      <td>1.090949e+05</td>\n",
       "      <td>3.919883</td>\n",
       "    </tr>\n",
       "    <tr>\n",
       "      <th>103</th>\n",
       "      <td>121.690255</td>\n",
       "      <td>19.687429</td>\n",
       "      <td>85.80</td>\n",
       "      <td>167.05</td>\n",
       "      <td>3.875949e+02</td>\n",
       "      <td>0.235075</td>\n",
       "    </tr>\n",
       "    <tr>\n",
       "      <th>104</th>\n",
       "      <td>561.644927</td>\n",
       "      <td>38.840341</td>\n",
       "      <td>477.15</td>\n",
       "      <td>656.55</td>\n",
       "      <td>1.508572e+03</td>\n",
       "      <td>0.465630</td>\n",
       "    </tr>\n",
       "    <tr>\n",
       "      <th>105</th>\n",
       "      <td>1314.510300</td>\n",
       "      <td>98.274396</td>\n",
       "      <td>1081.45</td>\n",
       "      <td>1570.65</td>\n",
       "      <td>9.657857e+03</td>\n",
       "      <td>1.169768</td>\n",
       "    </tr>\n",
       "    <tr>\n",
       "      <th>106</th>\n",
       "      <td>580.775947</td>\n",
       "      <td>31.327600</td>\n",
       "      <td>518.30</td>\n",
       "      <td>662.40</td>\n",
       "      <td>9.814185e+02</td>\n",
       "      <td>0.371816</td>\n",
       "    </tr>\n",
       "    <tr>\n",
       "      <th>107</th>\n",
       "      <td>658.480973</td>\n",
       "      <td>36.756938</td>\n",
       "      <td>571.05</td>\n",
       "      <td>736.30</td>\n",
       "      <td>1.351073e+03</td>\n",
       "      <td>0.437180</td>\n",
       "    </tr>\n",
       "    <tr>\n",
       "      <th>108</th>\n",
       "      <td>1162.866240</td>\n",
       "      <td>28.323665</td>\n",
       "      <td>1099.70</td>\n",
       "      <td>1238.20</td>\n",
       "      <td>8.022300e+02</td>\n",
       "      <td>0.334846</td>\n",
       "    </tr>\n",
       "    <tr>\n",
       "      <th>109</th>\n",
       "      <td>1648.386488</td>\n",
       "      <td>64.671362</td>\n",
       "      <td>1482.05</td>\n",
       "      <td>1805.50</td>\n",
       "      <td>4.182385e+03</td>\n",
       "      <td>0.763273</td>\n",
       "    </tr>\n",
       "    <tr>\n",
       "      <th>11</th>\n",
       "      <td>179.609218</td>\n",
       "      <td>15.463032</td>\n",
       "      <td>148.40</td>\n",
       "      <td>212.85</td>\n",
       "      <td>2.391054e+02</td>\n",
       "      <td>0.183927</td>\n",
       "    </tr>\n",
       "    <tr>\n",
       "      <th>110</th>\n",
       "      <td>89.005656</td>\n",
       "      <td>14.417888</td>\n",
       "      <td>65.55</td>\n",
       "      <td>120.20</td>\n",
       "      <td>2.078755e+02</td>\n",
       "      <td>0.170808</td>\n",
       "    </tr>\n",
       "    <tr>\n",
       "      <th>111</th>\n",
       "      <td>2346.905440</td>\n",
       "      <td>121.948444</td>\n",
       "      <td>2187.25</td>\n",
       "      <td>2663.65</td>\n",
       "      <td>1.487142e+04</td>\n",
       "      <td>1.428473</td>\n",
       "    </tr>\n",
       "    <tr>\n",
       "      <th>112</th>\n",
       "      <td>1082.472545</td>\n",
       "      <td>57.007171</td>\n",
       "      <td>974.75</td>\n",
       "      <td>1245.85</td>\n",
       "      <td>3.249818e+03</td>\n",
       "      <td>0.669515</td>\n",
       "    </tr>\n",
       "    <tr>\n",
       "      <th>113</th>\n",
       "      <td>10499.293473</td>\n",
       "      <td>561.312888</td>\n",
       "      <td>9414.10</td>\n",
       "      <td>12193.45</td>\n",
       "      <td>3.150722e+05</td>\n",
       "      <td>6.593650</td>\n",
       "    </tr>\n",
       "    <tr>\n",
       "      <th>114</th>\n",
       "      <td>2404.979943</td>\n",
       "      <td>375.051762</td>\n",
       "      <td>1831.95</td>\n",
       "      <td>3192.95</td>\n",
       "      <td>1.406638e+05</td>\n",
       "      <td>4.408714</td>\n",
       "    </tr>\n",
       "    <tr>\n",
       "      <th>115</th>\n",
       "      <td>1222.008441</td>\n",
       "      <td>68.215769</td>\n",
       "      <td>1051.30</td>\n",
       "      <td>1366.30</td>\n",
       "      <td>4.653391e+03</td>\n",
       "      <td>0.803763</td>\n",
       "    </tr>\n",
       "    <tr>\n",
       "      <th>116</th>\n",
       "      <td>802.447969</td>\n",
       "      <td>45.932753</td>\n",
       "      <td>688.25</td>\n",
       "      <td>911.20</td>\n",
       "      <td>2.109818e+03</td>\n",
       "      <td>0.545467</td>\n",
       "    </tr>\n",
       "    <tr>\n",
       "      <th>117</th>\n",
       "      <td>385.468228</td>\n",
       "      <td>22.100796</td>\n",
       "      <td>322.50</td>\n",
       "      <td>423.80</td>\n",
       "      <td>4.884452e+02</td>\n",
       "      <td>0.261296</td>\n",
       "    </tr>\n",
       "    <tr>\n",
       "      <th>118</th>\n",
       "      <td>3231.914624</td>\n",
       "      <td>346.086575</td>\n",
       "      <td>2584.65</td>\n",
       "      <td>4041.20</td>\n",
       "      <td>1.197759e+05</td>\n",
       "      <td>4.082357</td>\n",
       "    </tr>\n",
       "    <tr>\n",
       "      <th>119</th>\n",
       "      <td>2058.347592</td>\n",
       "      <td>117.645435</td>\n",
       "      <td>1727.75</td>\n",
       "      <td>2370.95</td>\n",
       "      <td>1.384045e+04</td>\n",
       "      <td>1.396096</td>\n",
       "    </tr>\n",
       "    <tr>\n",
       "      <th>12</th>\n",
       "      <td>38120.369019</td>\n",
       "      <td>1636.396503</td>\n",
       "      <td>33804.90</td>\n",
       "      <td>40685.85</td>\n",
       "      <td>2.677794e+06</td>\n",
       "      <td>19.165704</td>\n",
       "    </tr>\n",
       "    <tr>\n",
       "      <th>120</th>\n",
       "      <td>569.813342</td>\n",
       "      <td>22.298308</td>\n",
       "      <td>517.65</td>\n",
       "      <td>628.65</td>\n",
       "      <td>4.972145e+02</td>\n",
       "      <td>0.263081</td>\n",
       "    </tr>\n",
       "    <tr>\n",
       "      <th>121</th>\n",
       "      <td>1599.661496</td>\n",
       "      <td>147.437510</td>\n",
       "      <td>1371.95</td>\n",
       "      <td>1960.05</td>\n",
       "      <td>2.173782e+04</td>\n",
       "      <td>1.734679</td>\n",
       "    </tr>\n",
       "    <tr>\n",
       "      <th>122</th>\n",
       "      <td>1146.757536</td>\n",
       "      <td>92.966864</td>\n",
       "      <td>960.40</td>\n",
       "      <td>1359.35</td>\n",
       "      <td>8.642838e+03</td>\n",
       "      <td>1.102848</td>\n",
       "    </tr>\n",
       "    <tr>\n",
       "      <th>123</th>\n",
       "      <td>2197.100195</td>\n",
       "      <td>122.425003</td>\n",
       "      <td>1962.70</td>\n",
       "      <td>2444.35</td>\n",
       "      <td>1.498788e+04</td>\n",
       "      <td>1.444599</td>\n",
       "    </tr>\n",
       "    <tr>\n",
       "      <th>124</th>\n",
       "      <td>4358.636359</td>\n",
       "      <td>306.346366</td>\n",
       "      <td>3782.05</td>\n",
       "      <td>5207.05</td>\n",
       "      <td>9.384810e+04</td>\n",
       "      <td>3.613339</td>\n",
       "    </tr>\n",
       "    <tr>\n",
       "      <th>125</th>\n",
       "      <td>39.093172</td>\n",
       "      <td>3.663787</td>\n",
       "      <td>32.75</td>\n",
       "      <td>49.55</td>\n",
       "      <td>1.342333e+01</td>\n",
       "      <td>0.044136</td>\n",
       "    </tr>\n",
       "    <tr>\n",
       "      <th>...</th>\n",
       "      <td>...</td>\n",
       "      <td>...</td>\n",
       "      <td>...</td>\n",
       "      <td>...</td>\n",
       "      <td>...</td>\n",
       "      <td>...</td>\n",
       "    </tr>\n",
       "    <tr>\n",
       "      <th>72</th>\n",
       "      <td>1122.377057</td>\n",
       "      <td>71.698046</td>\n",
       "      <td>989.15</td>\n",
       "      <td>1292.40</td>\n",
       "      <td>5.140610e+03</td>\n",
       "      <td>0.848156</td>\n",
       "    </tr>\n",
       "    <tr>\n",
       "      <th>73</th>\n",
       "      <td>1767.413425</td>\n",
       "      <td>139.584330</td>\n",
       "      <td>1481.95</td>\n",
       "      <td>2153.45</td>\n",
       "      <td>1.948379e+04</td>\n",
       "      <td>1.652377</td>\n",
       "    </tr>\n",
       "    <tr>\n",
       "      <th>74</th>\n",
       "      <td>1915.668266</td>\n",
       "      <td>87.759389</td>\n",
       "      <td>1771.40</td>\n",
       "      <td>2207.70</td>\n",
       "      <td>7.701710e+03</td>\n",
       "      <td>1.028839</td>\n",
       "    </tr>\n",
       "    <tr>\n",
       "      <th>75</th>\n",
       "      <td>3845.001372</td>\n",
       "      <td>116.101641</td>\n",
       "      <td>3667.45</td>\n",
       "      <td>4284.40</td>\n",
       "      <td>1.347959e+04</td>\n",
       "      <td>1.366658</td>\n",
       "    </tr>\n",
       "    <tr>\n",
       "      <th>76</th>\n",
       "      <td>3682.145799</td>\n",
       "      <td>109.502145</td>\n",
       "      <td>3392.60</td>\n",
       "      <td>3962.55</td>\n",
       "      <td>1.199072e+04</td>\n",
       "      <td>1.277781</td>\n",
       "    </tr>\n",
       "    <tr>\n",
       "      <th>77</th>\n",
       "      <td>99.173290</td>\n",
       "      <td>17.848133</td>\n",
       "      <td>73.75</td>\n",
       "      <td>137.95</td>\n",
       "      <td>3.185558e+02</td>\n",
       "      <td>0.242703</td>\n",
       "    </tr>\n",
       "    <tr>\n",
       "      <th>78</th>\n",
       "      <td>767.409359</td>\n",
       "      <td>67.314474</td>\n",
       "      <td>651.40</td>\n",
       "      <td>912.00</td>\n",
       "      <td>4.531238e+03</td>\n",
       "      <td>0.800060</td>\n",
       "    </tr>\n",
       "    <tr>\n",
       "      <th>79</th>\n",
       "      <td>480.906529</td>\n",
       "      <td>34.667685</td>\n",
       "      <td>401.50</td>\n",
       "      <td>567.65</td>\n",
       "      <td>1.201848e+03</td>\n",
       "      <td>0.411691</td>\n",
       "    </tr>\n",
       "    <tr>\n",
       "      <th>8</th>\n",
       "      <td>1489.823909</td>\n",
       "      <td>65.825594</td>\n",
       "      <td>1325.50</td>\n",
       "      <td>1636.20</td>\n",
       "      <td>4.333009e+03</td>\n",
       "      <td>0.777221</td>\n",
       "    </tr>\n",
       "    <tr>\n",
       "      <th>80</th>\n",
       "      <td>2538.358198</td>\n",
       "      <td>135.187920</td>\n",
       "      <td>2169.30</td>\n",
       "      <td>2866.20</td>\n",
       "      <td>1.827577e+04</td>\n",
       "      <td>1.601681</td>\n",
       "    </tr>\n",
       "    <tr>\n",
       "      <th>81</th>\n",
       "      <td>135.852945</td>\n",
       "      <td>12.562110</td>\n",
       "      <td>112.40</td>\n",
       "      <td>179.15</td>\n",
       "      <td>1.578066e+02</td>\n",
       "      <td>0.150577</td>\n",
       "    </tr>\n",
       "    <tr>\n",
       "      <th>82</th>\n",
       "      <td>101.939219</td>\n",
       "      <td>12.053163</td>\n",
       "      <td>78.85</td>\n",
       "      <td>138.35</td>\n",
       "      <td>1.452787e+02</td>\n",
       "      <td>0.144559</td>\n",
       "    </tr>\n",
       "    <tr>\n",
       "      <th>83</th>\n",
       "      <td>317.272248</td>\n",
       "      <td>18.647111</td>\n",
       "      <td>277.10</td>\n",
       "      <td>350.10</td>\n",
       "      <td>3.477148e+02</td>\n",
       "      <td>0.221942</td>\n",
       "    </tr>\n",
       "    <tr>\n",
       "      <th>84</th>\n",
       "      <td>234.630249</td>\n",
       "      <td>24.953297</td>\n",
       "      <td>192.40</td>\n",
       "      <td>301.45</td>\n",
       "      <td>6.226671e+02</td>\n",
       "      <td>0.297506</td>\n",
       "    </tr>\n",
       "    <tr>\n",
       "      <th>85</th>\n",
       "      <td>261.347598</td>\n",
       "      <td>30.353911</td>\n",
       "      <td>220.90</td>\n",
       "      <td>336.60</td>\n",
       "      <td>9.213599e+02</td>\n",
       "      <td>0.360794</td>\n",
       "    </tr>\n",
       "    <tr>\n",
       "      <th>86</th>\n",
       "      <td>1059.946306</td>\n",
       "      <td>56.853534</td>\n",
       "      <td>928.40</td>\n",
       "      <td>1179.10</td>\n",
       "      <td>3.232324e+03</td>\n",
       "      <td>0.672552</td>\n",
       "    </tr>\n",
       "    <tr>\n",
       "      <th>87</th>\n",
       "      <td>1567.105253</td>\n",
       "      <td>102.165766</td>\n",
       "      <td>1402.45</td>\n",
       "      <td>1847.25</td>\n",
       "      <td>1.043784e+04</td>\n",
       "      <td>1.198802</td>\n",
       "    </tr>\n",
       "    <tr>\n",
       "      <th>88</th>\n",
       "      <td>17989.143240</td>\n",
       "      <td>593.978478</td>\n",
       "      <td>16627.00</td>\n",
       "      <td>19458.95</td>\n",
       "      <td>3.528104e+05</td>\n",
       "      <td>6.941540</td>\n",
       "    </tr>\n",
       "    <tr>\n",
       "      <th>89</th>\n",
       "      <td>683.456860</td>\n",
       "      <td>48.410571</td>\n",
       "      <td>594.85</td>\n",
       "      <td>781.50</td>\n",
       "      <td>2.343583e+03</td>\n",
       "      <td>0.569891</td>\n",
       "    </tr>\n",
       "    <tr>\n",
       "      <th>9</th>\n",
       "      <td>296.812719</td>\n",
       "      <td>36.703924</td>\n",
       "      <td>225.90</td>\n",
       "      <td>371.35</td>\n",
       "      <td>1.347178e+03</td>\n",
       "      <td>0.434526</td>\n",
       "    </tr>\n",
       "    <tr>\n",
       "      <th>90</th>\n",
       "      <td>229.939375</td>\n",
       "      <td>19.692931</td>\n",
       "      <td>185.40</td>\n",
       "      <td>274.10</td>\n",
       "      <td>3.878115e+02</td>\n",
       "      <td>0.233613</td>\n",
       "    </tr>\n",
       "    <tr>\n",
       "      <th>91</th>\n",
       "      <td>147.516918</td>\n",
       "      <td>13.527229</td>\n",
       "      <td>122.55</td>\n",
       "      <td>179.50</td>\n",
       "      <td>1.829859e+02</td>\n",
       "      <td>0.161359</td>\n",
       "    </tr>\n",
       "    <tr>\n",
       "      <th>92</th>\n",
       "      <td>56.245720</td>\n",
       "      <td>3.447460</td>\n",
       "      <td>51.20</td>\n",
       "      <td>68.60</td>\n",
       "      <td>1.188498e+01</td>\n",
       "      <td>0.041006</td>\n",
       "    </tr>\n",
       "    <tr>\n",
       "      <th>93</th>\n",
       "      <td>45585.109006</td>\n",
       "      <td>2972.358874</td>\n",
       "      <td>36580.50</td>\n",
       "      <td>51067.00</td>\n",
       "      <td>8.834917e+06</td>\n",
       "      <td>34.920628</td>\n",
       "    </tr>\n",
       "    <tr>\n",
       "      <th>94</th>\n",
       "      <td>400.256430</td>\n",
       "      <td>13.396644</td>\n",
       "      <td>377.00</td>\n",
       "      <td>430.35</td>\n",
       "      <td>1.794701e+02</td>\n",
       "      <td>0.158211</td>\n",
       "    </tr>\n",
       "    <tr>\n",
       "      <th>95</th>\n",
       "      <td>195.030069</td>\n",
       "      <td>21.406575</td>\n",
       "      <td>154.85</td>\n",
       "      <td>245.15</td>\n",
       "      <td>4.582414e+02</td>\n",
       "      <td>0.254822</td>\n",
       "    </tr>\n",
       "    <tr>\n",
       "      <th>96</th>\n",
       "      <td>917.740595</td>\n",
       "      <td>117.617983</td>\n",
       "      <td>731.70</td>\n",
       "      <td>1257.75</td>\n",
       "      <td>1.383399e+04</td>\n",
       "      <td>1.386816</td>\n",
       "    </tr>\n",
       "    <tr>\n",
       "      <th>97</th>\n",
       "      <td>1869.087670</td>\n",
       "      <td>52.735109</td>\n",
       "      <td>1755.70</td>\n",
       "      <td>2007.35</td>\n",
       "      <td>2.780992e+03</td>\n",
       "      <td>0.620370</td>\n",
       "    </tr>\n",
       "    <tr>\n",
       "      <th>98</th>\n",
       "      <td>66.833345</td>\n",
       "      <td>26.068526</td>\n",
       "      <td>24.65</td>\n",
       "      <td>121.25</td>\n",
       "      <td>6.795680e+02</td>\n",
       "      <td>0.313987</td>\n",
       "    </tr>\n",
       "    <tr>\n",
       "      <th>99</th>\n",
       "      <td>2311.749986</td>\n",
       "      <td>192.131238</td>\n",
       "      <td>2010.60</td>\n",
       "      <td>2652.90</td>\n",
       "      <td>3.691441e+04</td>\n",
       "      <td>2.280500</td>\n",
       "    </tr>\n",
       "  </tbody>\n",
       "</table>\n",
       "<p>164 rows × 6 columns</p>\n",
       "</div>"
      ],
      "text/plain": [
       "            MidPrice                                                          \n",
       "                mean          std       min       max           var        sem\n",
       "Ticker                                                                        \n",
       "1        3182.262171   269.064331   2592.25   3707.55  7.239561e+04   3.176916\n",
       "10        521.909513    30.827480    466.95    609.85  9.503335e+02   0.364624\n",
       "100        53.976764     5.641818     45.05     69.25  3.183011e+01   0.068127\n",
       "101       170.243516    18.728033    139.95    219.60  3.507392e+02   0.223811\n",
       "102      3990.607803   330.295175   3339.15   4850.70  1.090949e+05   3.919883\n",
       "103       121.690255    19.687429     85.80    167.05  3.875949e+02   0.235075\n",
       "104       561.644927    38.840341    477.15    656.55  1.508572e+03   0.465630\n",
       "105      1314.510300    98.274396   1081.45   1570.65  9.657857e+03   1.169768\n",
       "106       580.775947    31.327600    518.30    662.40  9.814185e+02   0.371816\n",
       "107       658.480973    36.756938    571.05    736.30  1.351073e+03   0.437180\n",
       "108      1162.866240    28.323665   1099.70   1238.20  8.022300e+02   0.334846\n",
       "109      1648.386488    64.671362   1482.05   1805.50  4.182385e+03   0.763273\n",
       "11        179.609218    15.463032    148.40    212.85  2.391054e+02   0.183927\n",
       "110        89.005656    14.417888     65.55    120.20  2.078755e+02   0.170808\n",
       "111      2346.905440   121.948444   2187.25   2663.65  1.487142e+04   1.428473\n",
       "112      1082.472545    57.007171    974.75   1245.85  3.249818e+03   0.669515\n",
       "113     10499.293473   561.312888   9414.10  12193.45  3.150722e+05   6.593650\n",
       "114      2404.979943   375.051762   1831.95   3192.95  1.406638e+05   4.408714\n",
       "115      1222.008441    68.215769   1051.30   1366.30  4.653391e+03   0.803763\n",
       "116       802.447969    45.932753    688.25    911.20  2.109818e+03   0.545467\n",
       "117       385.468228    22.100796    322.50    423.80  4.884452e+02   0.261296\n",
       "118      3231.914624   346.086575   2584.65   4041.20  1.197759e+05   4.082357\n",
       "119      2058.347592   117.645435   1727.75   2370.95  1.384045e+04   1.396096\n",
       "12      38120.369019  1636.396503  33804.90  40685.85  2.677794e+06  19.165704\n",
       "120       569.813342    22.298308    517.65    628.65  4.972145e+02   0.263081\n",
       "121      1599.661496   147.437510   1371.95   1960.05  2.173782e+04   1.734679\n",
       "122      1146.757536    92.966864    960.40   1359.35  8.642838e+03   1.102848\n",
       "123      2197.100195   122.425003   1962.70   2444.35  1.498788e+04   1.444599\n",
       "124      4358.636359   306.346366   3782.05   5207.05  9.384810e+04   3.613339\n",
       "125        39.093172     3.663787     32.75     49.55  1.342333e+01   0.044136\n",
       "...              ...          ...       ...       ...           ...        ...\n",
       "72       1122.377057    71.698046    989.15   1292.40  5.140610e+03   0.848156\n",
       "73       1767.413425   139.584330   1481.95   2153.45  1.948379e+04   1.652377\n",
       "74       1915.668266    87.759389   1771.40   2207.70  7.701710e+03   1.028839\n",
       "75       3845.001372   116.101641   3667.45   4284.40  1.347959e+04   1.366658\n",
       "76       3682.145799   109.502145   3392.60   3962.55  1.199072e+04   1.277781\n",
       "77         99.173290    17.848133     73.75    137.95  3.185558e+02   0.242703\n",
       "78        767.409359    67.314474    651.40    912.00  4.531238e+03   0.800060\n",
       "79        480.906529    34.667685    401.50    567.65  1.201848e+03   0.411691\n",
       "8        1489.823909    65.825594   1325.50   1636.20  4.333009e+03   0.777221\n",
       "80       2538.358198   135.187920   2169.30   2866.20  1.827577e+04   1.601681\n",
       "81        135.852945    12.562110    112.40    179.15  1.578066e+02   0.150577\n",
       "82        101.939219    12.053163     78.85    138.35  1.452787e+02   0.144559\n",
       "83        317.272248    18.647111    277.10    350.10  3.477148e+02   0.221942\n",
       "84        234.630249    24.953297    192.40    301.45  6.226671e+02   0.297506\n",
       "85        261.347598    30.353911    220.90    336.60  9.213599e+02   0.360794\n",
       "86       1059.946306    56.853534    928.40   1179.10  3.232324e+03   0.672552\n",
       "87       1567.105253   102.165766   1402.45   1847.25  1.043784e+04   1.198802\n",
       "88      17989.143240   593.978478  16627.00  19458.95  3.528104e+05   6.941540\n",
       "89        683.456860    48.410571    594.85    781.50  2.343583e+03   0.569891\n",
       "9         296.812719    36.703924    225.90    371.35  1.347178e+03   0.434526\n",
       "90        229.939375    19.692931    185.40    274.10  3.878115e+02   0.233613\n",
       "91        147.516918    13.527229    122.55    179.50  1.829859e+02   0.161359\n",
       "92         56.245720     3.447460     51.20     68.60  1.188498e+01   0.041006\n",
       "93      45585.109006  2972.358874  36580.50  51067.00  8.834917e+06  34.920628\n",
       "94        400.256430    13.396644    377.00    430.35  1.794701e+02   0.158211\n",
       "95        195.030069    21.406575    154.85    245.15  4.582414e+02   0.254822\n",
       "96        917.740595   117.617983    731.70   1257.75  1.383399e+04   1.386816\n",
       "97       1869.087670    52.735109   1755.70   2007.35  2.780992e+03   0.620370\n",
       "98         66.833345    26.068526     24.65    121.25  6.795680e+02   0.313987\n",
       "99       2311.749986   192.131238   2010.60   2652.90  3.691441e+04   2.280500\n",
       "\n",
       "[164 rows x 6 columns]"
      ]
     },
     "execution_count": 43,
     "metadata": {},
     "output_type": "execute_result"
    }
   ],
   "source": [
    "tmm"
   ]
  },
  {
   "cell_type": "code",
   "execution_count": 44,
   "metadata": {},
   "outputs": [
    {
     "name": "stderr",
     "output_type": "stream",
     "text": [
      "/usr/local/lib/python2.7/site-packages/pandas/core/reshape/merge.py:544: UserWarning: merging between different levels can give an unintended result (1 levels on the left, 2 on the right)\n",
      "  warnings.warn(msg, UserWarning)\n"
     ]
    }
   ],
   "source": [
    "train= pd.merge(train, tmm ,how='left', on='Ticker')"
   ]
  },
  {
   "cell_type": "code",
   "execution_count": 45,
   "metadata": {},
   "outputs": [],
   "source": [
    "test= pd.merge(test, tmm ,how='left', on='Ticker')"
   ]
  },
  {
   "cell_type": "code",
   "execution_count": 46,
   "metadata": {},
   "outputs": [
    {
     "data": {
      "text/plain": [
       "UID                         object\n",
       "Date                datetime64[ns]\n",
       "Time                        object\n",
       "MidPrice                   float64\n",
       "Symbol                    category\n",
       "Feature1                   float64\n",
       "Feature2                   float64\n",
       "Feature3                   float64\n",
       "Feature4                   float64\n",
       "Feature5                   float64\n",
       "Feature6                   float64\n",
       "Feature7                   float64\n",
       "Feature8                   float64\n",
       "Feature9                   float64\n",
       "Feature10                  float64\n",
       "Feature11                  float64\n",
       "Feature12                  float64\n",
       "Feature13                  float64\n",
       "Feature14                  float64\n",
       "Feature15                  float64\n",
       "Feature16                  float64\n",
       "Feature17                  float64\n",
       "Feature18                  float64\n",
       "Feature19                  float64\n",
       "Feature20                  float64\n",
       "Feature21                  float64\n",
       "Feature22                  float64\n",
       "Feature23                  float64\n",
       "Feature24                  float64\n",
       "Feature25                  float64\n",
       "Feature26                  float64\n",
       "Feature27                  float64\n",
       "Feature28                  float64\n",
       "Feature29                  float64\n",
       "Feature30                  float64\n",
       "Feature31                  float64\n",
       "Feature32                  float64\n",
       "Feature33                  float64\n",
       "Feature34                  float64\n",
       "Feature35                  float64\n",
       "Feature36                  float64\n",
       "Feature37                  float64\n",
       "Feature38                  float64\n",
       "Feature39                  float64\n",
       "Feature40                  float64\n",
       "Feature41                  float64\n",
       "Feature43                  float64\n",
       "Feature44                  float64\n",
       "Feature45                  float64\n",
       "Feature46                  float64\n",
       "DateTime            datetime64[ns]\n",
       "ts                           int64\n",
       "Ticker                      object\n",
       "(MidPrice, mean)           float64\n",
       "(MidPrice, std)            float64\n",
       "(MidPrice, min)            float64\n",
       "(MidPrice, max)            float64\n",
       "(MidPrice, var)            float64\n",
       "(MidPrice, sem)            float64\n",
       "dtype: object"
      ]
     },
     "execution_count": 46,
     "metadata": {},
     "output_type": "execute_result"
    }
   ],
   "source": [
    "train.dtypes"
   ]
  },
  {
   "cell_type": "code",
   "execution_count": 47,
   "metadata": {},
   "outputs": [
    {
     "name": "stderr",
     "output_type": "stream",
     "text": [
      "/Users/jayanth/Library/Python/2.7/lib/python/site-packages/ipykernel_launcher.py:1: FutureWarning: convert_objects is deprecated.  To re-infer data dtypes for object columns, use DataFrame.infer_objects()\n",
      "For all other conversions use the data-type specific converters pd.to_datetime, pd.to_timedelta and pd.to_numeric.\n",
      "  \"\"\"Entry point for launching an IPython kernel.\n",
      "/Users/jayanth/Library/Python/2.7/lib/python/site-packages/ipykernel_launcher.py:2: FutureWarning: convert_objects is deprecated.  To re-infer data dtypes for object columns, use DataFrame.infer_objects()\n",
      "For all other conversions use the data-type specific converters pd.to_datetime, pd.to_timedelta and pd.to_numeric.\n",
      "  \n"
     ]
    }
   ],
   "source": [
    "train.convert_objects(convert_numeric=True)\n",
    "test.convert_objects(convert_numeric=True)\n",
    "train['Ticker'] = train['Ticker'].astype(int)\n",
    "test['Ticker'] = test['Ticker'].astype(int)"
   ]
  },
  {
   "cell_type": "code",
   "execution_count": 48,
   "metadata": {},
   "outputs": [],
   "source": [
    "cat_columns = train.select_dtypes(['category']).columns\n",
    "train[cat_columns] = train[cat_columns].apply(lambda x: x.cat.codes)"
   ]
  },
  {
   "cell_type": "code",
   "execution_count": 49,
   "metadata": {},
   "outputs": [],
   "source": [
    "cat_columns = test.select_dtypes(['category']).columns\n",
    "test[cat_columns] = test[cat_columns].apply(lambda x: x.cat.codes)"
   ]
  },
  {
   "cell_type": "code",
   "execution_count": 50,
   "metadata": {},
   "outputs": [
    {
     "data": {
      "text/plain": [
       "UID                         object\n",
       "Date                datetime64[ns]\n",
       "Time                        object\n",
       "Symbol                       int16\n",
       "Feature1                   float64\n",
       "Feature2                   float64\n",
       "Feature3                   float64\n",
       "Feature4                   float64\n",
       "Feature5                   float64\n",
       "Feature6                   float64\n",
       "Feature7                   float64\n",
       "Feature8                   float64\n",
       "Feature9                   float64\n",
       "Feature10                  float64\n",
       "Feature11                  float64\n",
       "Feature12                  float64\n",
       "Feature13                  float64\n",
       "Feature14                  float64\n",
       "Feature15                  float64\n",
       "Feature16                  float64\n",
       "Feature17                  float64\n",
       "Feature18                  float64\n",
       "Feature19                  float64\n",
       "Feature20                  float64\n",
       "Feature21                  float64\n",
       "Feature22                  float64\n",
       "Feature23                  float64\n",
       "Feature24                  float64\n",
       "Feature25                  float64\n",
       "Feature26                  float64\n",
       "Feature27                  float64\n",
       "Feature28                  float64\n",
       "Feature29                  float64\n",
       "Feature30                  float64\n",
       "Feature31                  float64\n",
       "Feature32                  float64\n",
       "Feature33                  float64\n",
       "Feature34                  float64\n",
       "Feature35                  float64\n",
       "Feature36                  float64\n",
       "Feature37                  float64\n",
       "Feature38                  float64\n",
       "Feature39                  float64\n",
       "Feature40                  float64\n",
       "Feature41                  float64\n",
       "Feature43                  float64\n",
       "Feature44                  float64\n",
       "Feature45                  float64\n",
       "Feature46                  float64\n",
       "DateTime            datetime64[ns]\n",
       "ts                           int64\n",
       "Ticker                       int64\n",
       "(MidPrice, mean)           float64\n",
       "(MidPrice, std)            float64\n",
       "(MidPrice, min)            float64\n",
       "(MidPrice, max)            float64\n",
       "(MidPrice, var)            float64\n",
       "(MidPrice, sem)            float64\n",
       "dtype: object"
      ]
     },
     "execution_count": 50,
     "metadata": {},
     "output_type": "execute_result"
    }
   ],
   "source": [
    "test.dtypes"
   ]
  },
  {
   "cell_type": "code",
   "execution_count": 51,
   "metadata": {},
   "outputs": [],
   "source": [
    "numerics = ['int8','int16', 'int32', 'int64', 'float16', 'float32', 'float64']"
   ]
  },
  {
   "cell_type": "code",
   "execution_count": 52,
   "metadata": {},
   "outputs": [],
   "source": [
    "trainnum = train.select_dtypes(include=numerics)\n",
    "testnum = test.select_dtypes(include=numerics)"
   ]
  },
  {
   "cell_type": "code",
   "execution_count": 53,
   "metadata": {},
   "outputs": [],
   "source": [
    "import numpy as np\n",
    "from sklearn.model_selection import train_test_split"
   ]
  },
  {
   "cell_type": "code",
   "execution_count": 54,
   "metadata": {},
   "outputs": [],
   "source": [
    "trainnum = trainnum.drop(['Feature30','Feature32','Feature33','Feature43'], axis=1)\n",
    "testnum = testnum.drop(['Feature30','Feature32','Feature33','Feature43'], axis=1)"
   ]
  },
  {
   "cell_type": "code",
   "execution_count": 55,
   "metadata": {},
   "outputs": [],
   "source": [
    "X = trainnum.drop(['MidPrice'], axis=1)"
   ]
  },
  {
   "cell_type": "code",
   "execution_count": 56,
   "metadata": {},
   "outputs": [],
   "source": [
    "Xtest = testnum.values"
   ]
  },
  {
   "cell_type": "code",
   "execution_count": 57,
   "metadata": {},
   "outputs": [
    {
     "data": {
      "text/plain": [
       "Symbol                int16\n",
       "Feature1            float64\n",
       "Feature2            float64\n",
       "Feature3            float64\n",
       "Feature4            float64\n",
       "Feature5            float64\n",
       "Feature6            float64\n",
       "Feature7            float64\n",
       "Feature8            float64\n",
       "Feature9            float64\n",
       "Feature10           float64\n",
       "Feature11           float64\n",
       "Feature12           float64\n",
       "Feature13           float64\n",
       "Feature14           float64\n",
       "Feature15           float64\n",
       "Feature16           float64\n",
       "Feature17           float64\n",
       "Feature18           float64\n",
       "Feature19           float64\n",
       "Feature20           float64\n",
       "Feature21           float64\n",
       "Feature22           float64\n",
       "Feature23           float64\n",
       "Feature24           float64\n",
       "Feature25           float64\n",
       "Feature26           float64\n",
       "Feature27           float64\n",
       "Feature28           float64\n",
       "Feature29           float64\n",
       "Feature31           float64\n",
       "Feature34           float64\n",
       "Feature35           float64\n",
       "Feature36           float64\n",
       "Feature37           float64\n",
       "Feature38           float64\n",
       "Feature39           float64\n",
       "Feature40           float64\n",
       "Feature41           float64\n",
       "Feature44           float64\n",
       "Feature45           float64\n",
       "Feature46           float64\n",
       "ts                    int64\n",
       "Ticker                int64\n",
       "(MidPrice, mean)    float64\n",
       "(MidPrice, std)     float64\n",
       "(MidPrice, min)     float64\n",
       "(MidPrice, max)     float64\n",
       "(MidPrice, var)     float64\n",
       "(MidPrice, sem)     float64\n",
       "dtype: object"
      ]
     },
     "execution_count": 57,
     "metadata": {},
     "output_type": "execute_result"
    }
   ],
   "source": [
    "X.dtypes"
   ]
  },
  {
   "cell_type": "code",
   "execution_count": 58,
   "metadata": {},
   "outputs": [],
   "source": [
    "Y = trainnum['MidPrice']"
   ]
  },
  {
   "cell_type": "code",
   "execution_count": 59,
   "metadata": {},
   "outputs": [],
   "source": [
    "Xtrain, Xval, Ytrain, Yval = train_test_split( X.values, Y.values, test_size=0.20, random_state=42, shuffle=True)"
   ]
  },
  {
   "cell_type": "code",
   "execution_count": 60,
   "metadata": {},
   "outputs": [
    {
     "data": {
      "text/plain": [
       "(925939, 50)"
      ]
     },
     "execution_count": 60,
     "metadata": {},
     "output_type": "execute_result"
    }
   ],
   "source": [
    "Xtrain.shape"
   ]
  },
  {
   "cell_type": "code",
   "execution_count": 61,
   "metadata": {},
   "outputs": [
    {
     "data": {
      "text/plain": [
       "(231485, 50)"
      ]
     },
     "execution_count": 61,
     "metadata": {},
     "output_type": "execute_result"
    }
   ],
   "source": [
    "Xval.shape"
   ]
  },
  {
   "cell_type": "code",
   "execution_count": 62,
   "metadata": {},
   "outputs": [
    {
     "data": {
      "text/plain": [
       "Symbol              False\n",
       "Feature1            False\n",
       "Feature2            False\n",
       "Feature3            False\n",
       "Feature4            False\n",
       "Feature5            False\n",
       "Feature6            False\n",
       "Feature7            False\n",
       "Feature8            False\n",
       "Feature9            False\n",
       "Feature10           False\n",
       "Feature11           False\n",
       "Feature12           False\n",
       "Feature13           False\n",
       "Feature14           False\n",
       "Feature15           False\n",
       "Feature16           False\n",
       "Feature17           False\n",
       "Feature18           False\n",
       "Feature19           False\n",
       "Feature20           False\n",
       "Feature21           False\n",
       "Feature22           False\n",
       "Feature23           False\n",
       "Feature24           False\n",
       "Feature25           False\n",
       "Feature26           False\n",
       "Feature27           False\n",
       "Feature28           False\n",
       "Feature29           False\n",
       "Feature31           False\n",
       "Feature34           False\n",
       "Feature35           False\n",
       "Feature36           False\n",
       "Feature37           False\n",
       "Feature38           False\n",
       "Feature39           False\n",
       "Feature40           False\n",
       "Feature41           False\n",
       "Feature44           False\n",
       "Feature45           False\n",
       "Feature46           False\n",
       "ts                  False\n",
       "Ticker              False\n",
       "(MidPrice, mean)    False\n",
       "(MidPrice, std)     False\n",
       "(MidPrice, min)     False\n",
       "(MidPrice, max)     False\n",
       "(MidPrice, var)     False\n",
       "(MidPrice, sem)     False\n",
       "dtype: bool"
      ]
     },
     "execution_count": 62,
     "metadata": {},
     "output_type": "execute_result"
    }
   ],
   "source": [
    "testnum.isnull().any()"
   ]
  },
  {
   "cell_type": "code",
   "execution_count": 63,
   "metadata": {},
   "outputs": [
    {
     "data": {
      "text/plain": [
       "(423088, 50)"
      ]
     },
     "execution_count": 63,
     "metadata": {},
     "output_type": "execute_result"
    }
   ],
   "source": [
    "Xtest.shape"
   ]
  },
  {
   "cell_type": "markdown",
   "metadata": {},
   "source": [
    "# Modeling"
   ]
  },
  {
   "cell_type": "code",
   "execution_count": 64,
   "metadata": {},
   "outputs": [
    {
     "name": "stderr",
     "output_type": "stream",
     "text": [
      "/Users/jayanth/Library/Python/2.7/lib/python/site-packages/sklearn/ensemble/weight_boosting.py:29: DeprecationWarning: numpy.core.umath_tests is an internal NumPy module and should not be imported. It will be removed in a future NumPy release.\n",
      "  from numpy.core.umath_tests import inner1d\n",
      "/usr/local/lib/python2.7/site-packages/lightgbm/__init__.py:46: UserWarning: Starting from version 2.2.1, the library file in distribution wheels for macOS is built by the Apple Clang (Xcode_8.3.3) compiler.\n",
      "This means that in case of installing LightGBM from PyPI via the ``pip install lightgbm`` command, you don't need to install the gcc compiler anymore.\n",
      "Instead of that, you need to install the OpenMP library, which is required for running LightGBM on the system with the Apple Clang compiler.\n",
      "You can install the OpenMP library by the following command: ``brew install libomp``.\n",
      "  \"You can install the OpenMP library by the following command: ``brew install libomp``.\", UserWarning)\n"
     ]
    }
   ],
   "source": [
    "from sklearn.linear_model import ElasticNet, Lasso,  BayesianRidge, LassoLarsIC\n",
    "from sklearn.ensemble import RandomForestRegressor,  GradientBoostingRegressor\n",
    "from sklearn.kernel_ridge import KernelRidge\n",
    "from sklearn.pipeline import make_pipeline\n",
    "from sklearn.preprocessing import RobustScaler\n",
    "from sklearn.base import BaseEstimator, TransformerMixin, RegressorMixin, clone\n",
    "from sklearn.model_selection import KFold, cross_val_score, train_test_split\n",
    "from sklearn.metrics import mean_squared_error\n",
    "import xgboost as xgb\n",
    "import lightgbm as lgb"
   ]
  },
  {
   "cell_type": "code",
   "execution_count": 65,
   "metadata": {},
   "outputs": [],
   "source": [
    "#Validation function\n",
    "n_folds = 5\n",
    "\n",
    "def rmsle_cv(model):\n",
    "    kf = KFold(n_folds, shuffle=True, random_state=42).get_n_splits(train.values)\n",
    "    rmse= np.sqrt(-cross_val_score(model, X.values, Y.value, scoring=\"neg_mean_squared_error\", cv = kf))\n",
    "    return(rmse)"
   ]
  },
  {
   "cell_type": "code",
   "execution_count": 66,
   "metadata": {},
   "outputs": [],
   "source": [
    "lasso = make_pipeline(RobustScaler(), Lasso(alpha =0.0005, random_state=1))"
   ]
  },
  {
   "cell_type": "code",
   "execution_count": 67,
   "metadata": {},
   "outputs": [],
   "source": [
    "KRR = KernelRidge(alpha=0.6, kernel='polynomial', degree=2, coef0=2.5)"
   ]
  },
  {
   "cell_type": "code",
   "execution_count": 68,
   "metadata": {},
   "outputs": [],
   "source": [
    "regr = RandomForestRegressor(max_depth=3, random_state=7, n_estimators=500, verbose=True)"
   ]
  },
  {
   "cell_type": "code",
   "execution_count": 69,
   "metadata": {},
   "outputs": [],
   "source": [
    "model_xgb = xgb.XGBRegressor(colsample_bytree=0.4603, gamma=0.0468, \n",
    "                             learning_rate=0.05, max_depth=3, \n",
    "                             min_child_weight=1.7817, n_estimators=2200,\n",
    "                             reg_alpha=0.4640, reg_lambda=0.8571,\n",
    "                             subsample=0.5213, silent=1,\n",
    "                             random_state =7, nthread = -1, verbose=True)"
   ]
  },
  {
   "cell_type": "code",
   "execution_count": 70,
   "metadata": {},
   "outputs": [],
   "source": [
    "GBoost = GradientBoostingRegressor(n_estimators=3000, learning_rate=0.05,\n",
    "                                   max_depth=4, max_features='sqrt',\n",
    "                                   min_samples_leaf=15, min_samples_split=10, \n",
    "                                   loss='huber', random_state =5, verbose=True)"
   ]
  },
  {
   "cell_type": "code",
   "execution_count": 71,
   "metadata": {},
   "outputs": [],
   "source": [
    "model_lgb = lgb.LGBMRegressor(objective='regression',num_leaves=5,\n",
    "                              learning_rate=0.05, n_estimators=720,\n",
    "                              max_bin = 55, bagging_fraction = 0.8,\n",
    "                              bagging_freq = 5, feature_fraction = 0.2319,\n",
    "                              feature_fraction_seed=9, bagging_seed=9,\n",
    "                              min_data_in_leaf =6, min_sum_hessian_in_leaf = 11, verbose=True)"
   ]
  },
  {
   "cell_type": "code",
   "execution_count": null,
   "metadata": {},
   "outputs": [],
   "source": [
    "score = rmsle_cv(lasso)\n",
    "print(\"\\nLasso score: {:.4f} ({:.4f})\\n\".format(score.mean(), score.std()))"
   ]
  },
  {
   "cell_type": "code",
   "execution_count": null,
   "metadata": {},
   "outputs": [],
   "source": [
    "score = rmsle_cv(KRR)\n",
    "print(\"Kernel Ridge score: {:.4f} ({:.4f})\\n\".format(score.mean(), score.std()))"
   ]
  },
  {
   "cell_type": "code",
   "execution_count": null,
   "metadata": {},
   "outputs": [],
   "source": [
    "score = rmsle_cv(regr)\n",
    "print(\"Random Forest Regression score: {:.4f} ({:.4f})\\n\".format(score.mean(), score.std()))"
   ]
  },
  {
   "cell_type": "code",
   "execution_count": null,
   "metadata": {},
   "outputs": [],
   "source": [
    "score = rmsle_cv(model_xgb)\n",
    "print(\"Xgboost score: {:.4f} ({:.4f})\\n\".format(score.mean(), score.std()))"
   ]
  },
  {
   "cell_type": "code",
   "execution_count": null,
   "metadata": {},
   "outputs": [],
   "source": [
    "score = rmsle_cv(GBoost)\n",
    "print(\"Gradient Boosting score: {:.4f} ({:.4f})\\n\".format(score.mean(), score.std()))"
   ]
  },
  {
   "cell_type": "code",
   "execution_count": null,
   "metadata": {},
   "outputs": [],
   "source": [
    "score = rmsle_cv(model_lgb)\n",
    "print(\"LGBM score: {:.4f} ({:.4f})\\n\" .format(score.mean(), score.std()))"
   ]
  },
  {
   "cell_type": "markdown",
   "metadata": {},
   "source": [
    "# Keras DL model"
   ]
  },
  {
   "cell_type": "code",
   "execution_count": null,
   "metadata": {},
   "outputs": [],
   "source": [
    "from __future__ import print_function\n",
    "import keras\n",
    "from keras import backend as K\n",
    "from keras.engine.topology import Layer\n",
    "from keras import activations\n",
    "from keras import utils\n",
    "from keras.models import Model, Sequential\n",
    "from keras.layers import *"
   ]
  },
  {
   "cell_type": "code",
   "execution_count": null,
   "metadata": {},
   "outputs": [],
   "source": [
    "Xtrain.shape"
   ]
  },
  {
   "cell_type": "code",
   "execution_count": null,
   "metadata": {},
   "outputs": [],
   "source": [
    "Xtest.shape"
   ]
  },
  {
   "cell_type": "code",
   "execution_count": null,
   "metadata": {},
   "outputs": [],
   "source": [
    "batch_size = 1024\n",
    "num_classes = 2\n",
    "epochs = 20\n",
    "\n",
    "Xtrain = np.nan_to_num(Xtrain).astype('float32')\n",
    "Xval = np.nan_to_num(Xval).astype('float32')\n",
    "Xtest = np.nan_to_num(Xtest).astype('float32')\n",
    "# x_train /= 255\n",
    "# x_test /= 255\n",
    "ytrain = utils.to_categorical(Ytrain, num_classes)\n",
    "yval = utils.to_categorical(Yval, num_classes)"
   ]
  },
  {
   "cell_type": "code",
   "execution_count": null,
   "metadata": {},
   "outputs": [],
   "source": [
    "from sklearn.preprocessing import StandardScaler\n",
    "sc = StandardScaler()\n",
    "Xtrain = sc.fit_transform(Xtrain)\n",
    "Xtest = sc.transform(Xtest)\n",
    "Xval = sc.transform(Xval)"
   ]
  },
  {
   "cell_type": "code",
   "execution_count": null,
   "metadata": {},
   "outputs": [],
   "source": [
    "Xtest"
   ]
  },
  {
   "cell_type": "code",
   "execution_count": null,
   "metadata": {},
   "outputs": [],
   "source": [
    "ytrain"
   ]
  },
  {
   "cell_type": "code",
   "execution_count": null,
   "metadata": {},
   "outputs": [],
   "source": [
    "# A common Conv2D model\n",
    "model = Sequential()\n",
    "\n",
    "model.add(BatchNormalization(input_shape=Xtrain.shape[1:]))\n",
    "#model.add(Dense(5000))\n",
    "#model.add(Dropout(0.2))\n",
    "#model.add(Activation('relu'))\n",
    "\n",
    "#model.add(BatchNormalization())\n",
    "model.add(Dense(1000))\n",
    "model.add(Dropout(0.2))\n",
    "model.add(Activation('relu'))\n",
    "\n",
    "model.add(BatchNormalization())\n",
    "model.add(Dense(100))\n",
    "model.add(Dropout(0.2))\n",
    "model.add(Activation('relu'))\n",
    "\n",
    "model.add(BatchNormalization())\n",
    "model.add(Dense(20))\n",
    "model.add(Dropout(0.2))\n",
    "model.add(Activation('relu'))\n",
    "\n",
    "model.add(Dense(2))\n",
    "model.add(Activation('softmax'))\n",
    "\n",
    "print(model.summary())"
   ]
  },
  {
   "cell_type": "code",
   "execution_count": null,
   "metadata": {},
   "outputs": [],
   "source": [
    "# initiate RMSprop optimizer\n",
    "opt = keras.optimizers.Adam(lr=0.001)\n",
    "\n",
    "# Let's train the model using RMSprop\n",
    "model.compile(loss='categorical_crossentropy',\n",
    "              optimizer=opt,\n",
    "              metrics=['accuracy'])"
   ]
  },
  {
   "cell_type": "code",
   "execution_count": null,
   "metadata": {},
   "outputs": [],
   "source": [
    "reduce_lr = keras.callbacks.ReduceLROnPlateau(monitor='val_loss', factor=0.2,\n",
    "                              patience=5, min_lr=3e-4)"
   ]
  },
  {
   "cell_type": "code",
   "execution_count": null,
   "metadata": {},
   "outputs": [],
   "source": [
    "model.fit(Xtrain, ytrain,\n",
    "              batch_size=batch_size,\n",
    "              epochs=epochs,\n",
    "              validation_data=(Xval, yval),\n",
    "              shuffle=False, callbacks=[reduce_lr])"
   ]
  },
  {
   "cell_type": "code",
   "execution_count": null,
   "metadata": {},
   "outputs": [],
   "source": [
    "predictions = model.predict(Xtest)"
   ]
  },
  {
   "cell_type": "code",
   "execution_count": null,
   "metadata": {},
   "outputs": [],
   "source": [
    "predictions"
   ]
  },
  {
   "cell_type": "code",
   "execution_count": null,
   "metadata": {},
   "outputs": [],
   "source": [
    "Ytest = predictions[:,1]\n",
    "Ytest"
   ]
  },
  {
   "cell_type": "code",
   "execution_count": null,
   "metadata": {},
   "outputs": [],
   "source": [
    "from scipy import stats\n",
    "stats.describe(Ytest)"
   ]
  },
  {
   "cell_type": "code",
   "execution_count": null,
   "metadata": {},
   "outputs": [],
   "source": [
    "mm = np.mean([4.1171634e-06, 0.9999566])\n",
    "mm"
   ]
  },
  {
   "cell_type": "code",
   "execution_count": null,
   "metadata": {},
   "outputs": [],
   "source": [
    "Yout = predictions[:,1]>mm"
   ]
  },
  {
   "cell_type": "code",
   "execution_count": null,
   "metadata": {},
   "outputs": [],
   "source": [
    "stats.describe(Yout)"
   ]
  },
  {
   "cell_type": "code",
   "execution_count": null,
   "metadata": {},
   "outputs": [],
   "source": [
    "test['change']=Yout"
   ]
  },
  {
   "cell_type": "code",
   "execution_count": null,
   "metadata": {
    "scrolled": true
   },
   "outputs": [],
   "source": [
    "test['change'] = test.change.astype(int)"
   ]
  },
  {
   "cell_type": "code",
   "execution_count": null,
   "metadata": {},
   "outputs": [],
   "source": [
    "test"
   ]
  },
  {
   "cell_type": "code",
   "execution_count": null,
   "metadata": {},
   "outputs": [],
   "source": [
    "from tqdm import tqdm"
   ]
  },
  {
   "cell_type": "code",
   "execution_count": null,
   "metadata": {},
   "outputs": [],
   "source": [
    "test['BuySell']=test['change']"
   ]
  },
  {
   "cell_type": "code",
   "execution_count": null,
   "metadata": {},
   "outputs": [],
   "source": [
    "prev = 0\n",
    "prevBuySell = 0\n",
    "for index, row in tqdm(test.iterrows()):\n",
    "    if row['ts']%86400==12600:\n",
    "        rowBuySell=0\n",
    "    elif prev!=row['change']:\n",
    "        if prev==0 and row['change']==1:\n",
    "            if prevBuySell==0:\n",
    "                rowBuySell=1\n",
    "            elif prevBuySell==-1:\n",
    "                rowBuySell=0\n",
    "            else:\n",
    "                rowBuySell=1\n",
    "        elif prev==1 and row['change']==0:\n",
    "            if prevBuySell==0:\n",
    "                rowBuySell=-1\n",
    "            elif prevBuySell==1:\n",
    "                rowBuySell=0\n",
    "            else:\n",
    "                rowBuySell=-1\n",
    "    else:\n",
    "        rowBuySell=0\n",
    "    test.set_value(index,'BuySell',rowBuySell)\n",
    "    prev=row['change']\n",
    "    prevBuySell=rowBuySell"
   ]
  },
  {
   "cell_type": "code",
   "execution_count": null,
   "metadata": {},
   "outputs": [],
   "source": [
    "test.BuySell.describe()"
   ]
  },
  {
   "cell_type": "code",
   "execution_count": null,
   "metadata": {},
   "outputs": [],
   "source": [
    "resdf = pd.DataFrame()\n",
    "resdf['UID'] = test['UID']\n",
    "resdf['BuySell'] = test['BuySell']"
   ]
  },
  {
   "cell_type": "code",
   "execution_count": null,
   "metadata": {},
   "outputs": [],
   "source": [
    "resdf.to_csv('resdf.csv', sep=',',header=True, index=False)"
   ]
  },
  {
   "cell_type": "code",
   "execution_count": null,
   "metadata": {},
   "outputs": [],
   "source": [
    "subdf = pd.read_csv(\"submission_format.csv\")"
   ]
  },
  {
   "cell_type": "code",
   "execution_count": null,
   "metadata": {},
   "outputs": [],
   "source": [
    "resdf = pd.read_csv(\"resdf.csv\")"
   ]
  },
  {
   "cell_type": "code",
   "execution_count": null,
   "metadata": {},
   "outputs": [],
   "source": [
    "subdf.describe()"
   ]
  },
  {
   "cell_type": "code",
   "execution_count": null,
   "metadata": {},
   "outputs": [],
   "source": [
    "resdf.head()"
   ]
  },
  {
   "cell_type": "code",
   "execution_count": null,
   "metadata": {},
   "outputs": [],
   "source": [
    "subresdf = pd.merge(subdf, resdf ,how='left', on='UID')"
   ]
  },
  {
   "cell_type": "code",
   "execution_count": null,
   "metadata": {},
   "outputs": [],
   "source": [
    "subresdf.describe()"
   ]
  },
  {
   "cell_type": "code",
   "execution_count": null,
   "metadata": {},
   "outputs": [],
   "source": [
    "subresdf['BuySell']=subresdf['BuySell_y']"
   ]
  },
  {
   "cell_type": "code",
   "execution_count": null,
   "metadata": {},
   "outputs": [],
   "source": [
    "finaldf = subresdf.drop(['BuySell_y'], axis=1).drop(['BuySell_x'], axis=1)"
   ]
  },
  {
   "cell_type": "code",
   "execution_count": null,
   "metadata": {},
   "outputs": [],
   "source": [
    "finaldf.to_csv('final.csv', sep=',',header=True, index=False)"
   ]
  },
  {
   "cell_type": "code",
   "execution_count": null,
   "metadata": {},
   "outputs": [],
   "source": [
    "finaldf.BuySell.describe()"
   ]
  },
  {
   "cell_type": "code",
   "execution_count": null,
   "metadata": {},
   "outputs": [],
   "source": [
    "finaldf[finaldf.BuySell == 1].count()"
   ]
  },
  {
   "cell_type": "code",
   "execution_count": null,
   "metadata": {},
   "outputs": [],
   "source": [
    "finaldf[finaldf.BuySell == -1].count()"
   ]
  }
 ],
 "metadata": {
  "kernelspec": {
   "display_name": "Python 2",
   "language": "python",
   "name": "python2"
  },
  "language_info": {
   "codemirror_mode": {
    "name": "ipython",
    "version": 2
   },
   "file_extension": ".py",
   "mimetype": "text/x-python",
   "name": "python",
   "nbconvert_exporter": "python",
   "pygments_lexer": "ipython2",
   "version": "2.7.16"
  }
 },
 "nbformat": 4,
 "nbformat_minor": 2
}
